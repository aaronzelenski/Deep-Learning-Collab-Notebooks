{
  "cells": [
    {
      "cell_type": "markdown",
      "metadata": {
        "id": "AEQ8LsruHopg"
      },
      "source": [
        "[![Open In Colab](https://colab.research.google.com/assets/colab-badge.svg)](https://github.com/porterjenkins/byu-cs474/blob/master/lab11_rl.ipynb)"
      ]
    },
    {
      "cell_type": "markdown",
      "metadata": {
        "id": "sl7hEuB3J4k3"
      },
      "source": [
        "# Deep Reinforcement Learning\n",
        "\n",
        "## Objective\n",
        "\n",
        "- Build DQN and PPO Deep RL algorithms\n",
        "- Learn the difference between Q Learning and Policy Gradient techniques\n",
        "\n",
        "## Deliverable\n",
        "\n",
        "For this lab you will submit an ipython notebook via learning suite. This lab gives you a lot of code, and you should only need to modify two of the cells of this notebook. Feel free to download and modify this notebook or create your own. The below code is given for your convinience. You can modify any of the given code if you wish.\n",
        "\n",
        "## Tips\n",
        "\n",
        "Deep reinforcement learning is difficult. We provide hyperparameters, visualizations, and code for gathering experience, but require you to code up algorithms for training your networks.\n",
        "\n",
        "- Your networks should be able to demonstrate learning on cartpole within a minute of wall time.\n",
        "\n",
        "- Understand what your the starter code is doing. This will help you with the *TODO* sections. The main code block is similar for the two algorithms with some small yet important differences.\n",
        "\n",
        "- We provide hyperparameters for you to start with. Feel free to experiment with different values, but these worked for us.\n",
        "\n",
        "- **Print dtypes and shapes** throughout your code to make sure your tensors look the way you expect.\n",
        "\n",
        "- The DQN algorithm is significantly more unstable than PPO. Even with a correct implementation it may fail to learn every 1/10 times.\n",
        "\n",
        "- Unfortunately visualizing your agent acting in the environment is non-trivial in Colab. You can visualize your agent by running this code locally and uncommenting the `env.render()` line.\n",
        "\n",
        "## Grading\n",
        "\n",
        "- 40% Part 1: DQN *TODO* methods\n",
        "- 40% Part 2: PPO *TODO* methods\n",
        "- 20% Cartpole learning curves\n",
        "\n",
        "\n",
        "### Cartpole\n",
        "\n",
        "Cartpole is a simple environment to get your agent up and running. It has a continuous state space of 4 dimensions and a discrete action space of 2. The agent is given a reward of 1 for each timestep it remains standing. Your agent should be able to reach close to 200 cumulative reward for an episode after a minute or two of training. The below graphs show example results for dqn (left) and ppo (right).\n",
        "\n",
        "![alt text](https://github.com/wingated/cs474_labs/blob/master/images/dqn.png?raw=true)\n",
        "![alt text](https://github.com/wingated/cs474_labs/blob/master/images/ppo.png?raw=true)\n",
        "\n",
        "### TODO\n",
        "\n",
        "- Train DQN and PPO on cartpole\n",
        "- Display learning curves with average episodic reward per epoch"
      ]
    },
    {
      "cell_type": "markdown",
      "metadata": {
        "id": "gVWokqnVab6O"
      },
      "source": [
        "# Starter Code"
      ]
    },
    {
      "cell_type": "markdown",
      "metadata": {
        "id": "WhaPOG6xt0yn"
      },
      "source": [
        "## Init"
      ]
    },
    {
      "cell_type": "code",
      "execution_count": null,
      "metadata": {
        "id": "EyykNyRM1Tf3",
        "colab": {
          "base_uri": "https://localhost:8080/"
        },
        "outputId": "7f94ef3c-f6db-4b7e-bf96-a145dcf16e2f"
      },
      "outputs": [
        {
          "output_type": "stream",
          "name": "stdout",
          "text": [
            "Requirement already satisfied: gymnasium in /usr/local/lib/python3.11/dist-packages (1.1.1)\n",
            "Requirement already satisfied: numpy>=1.21.0 in /usr/local/lib/python3.11/dist-packages (from gymnasium) (2.0.2)\n",
            "Requirement already satisfied: cloudpickle>=1.2.0 in /usr/local/lib/python3.11/dist-packages (from gymnasium) (3.1.1)\n",
            "Requirement already satisfied: typing-extensions>=4.3.0 in /usr/local/lib/python3.11/dist-packages (from gymnasium) (4.13.0)\n",
            "Requirement already satisfied: farama-notifications>=0.0.1 in /usr/local/lib/python3.11/dist-packages (from gymnasium) (0.0.4)\n",
            "Requirement already satisfied: torch in /usr/local/lib/python3.11/dist-packages (2.6.0+cu124)\n",
            "Requirement already satisfied: filelock in /usr/local/lib/python3.11/dist-packages (from torch) (3.18.0)\n",
            "Requirement already satisfied: typing-extensions>=4.10.0 in /usr/local/lib/python3.11/dist-packages (from torch) (4.13.0)\n",
            "Requirement already satisfied: networkx in /usr/local/lib/python3.11/dist-packages (from torch) (3.4.2)\n",
            "Requirement already satisfied: jinja2 in /usr/local/lib/python3.11/dist-packages (from torch) (3.1.6)\n",
            "Requirement already satisfied: fsspec in /usr/local/lib/python3.11/dist-packages (from torch) (2025.3.2)\n",
            "Requirement already satisfied: nvidia-cuda-nvrtc-cu12==12.4.127 in /usr/local/lib/python3.11/dist-packages (from torch) (12.4.127)\n",
            "Requirement already satisfied: nvidia-cuda-runtime-cu12==12.4.127 in /usr/local/lib/python3.11/dist-packages (from torch) (12.4.127)\n",
            "Requirement already satisfied: nvidia-cuda-cupti-cu12==12.4.127 in /usr/local/lib/python3.11/dist-packages (from torch) (12.4.127)\n",
            "Requirement already satisfied: nvidia-cudnn-cu12==9.1.0.70 in /usr/local/lib/python3.11/dist-packages (from torch) (9.1.0.70)\n",
            "Requirement already satisfied: nvidia-cublas-cu12==12.4.5.8 in /usr/local/lib/python3.11/dist-packages (from torch) (12.4.5.8)\n",
            "Requirement already satisfied: nvidia-cufft-cu12==11.2.1.3 in /usr/local/lib/python3.11/dist-packages (from torch) (11.2.1.3)\n",
            "Requirement already satisfied: nvidia-curand-cu12==10.3.5.147 in /usr/local/lib/python3.11/dist-packages (from torch) (10.3.5.147)\n",
            "Requirement already satisfied: nvidia-cusolver-cu12==11.6.1.9 in /usr/local/lib/python3.11/dist-packages (from torch) (11.6.1.9)\n",
            "Requirement already satisfied: nvidia-cusparse-cu12==12.3.1.170 in /usr/local/lib/python3.11/dist-packages (from torch) (12.3.1.170)\n",
            "Requirement already satisfied: nvidia-cusparselt-cu12==0.6.2 in /usr/local/lib/python3.11/dist-packages (from torch) (0.6.2)\n",
            "Requirement already satisfied: nvidia-nccl-cu12==2.21.5 in /usr/local/lib/python3.11/dist-packages (from torch) (2.21.5)\n",
            "Requirement already satisfied: nvidia-nvtx-cu12==12.4.127 in /usr/local/lib/python3.11/dist-packages (from torch) (12.4.127)\n",
            "Requirement already satisfied: nvidia-nvjitlink-cu12==12.4.127 in /usr/local/lib/python3.11/dist-packages (from torch) (12.4.127)\n",
            "Requirement already satisfied: triton==3.2.0 in /usr/local/lib/python3.11/dist-packages (from torch) (3.2.0)\n",
            "Requirement already satisfied: sympy==1.13.1 in /usr/local/lib/python3.11/dist-packages (from torch) (1.13.1)\n",
            "Requirement already satisfied: mpmath<1.4,>=1.1.0 in /usr/local/lib/python3.11/dist-packages (from sympy==1.13.1->torch) (1.3.0)\n",
            "Requirement already satisfied: MarkupSafe>=2.0 in /usr/local/lib/python3.11/dist-packages (from jinja2->torch) (3.0.2)\n",
            "Requirement already satisfied: pygame in /usr/local/lib/python3.11/dist-packages (2.6.1)\n",
            "Requirement already satisfied: moviepy==1.0.3 in /usr/local/lib/python3.11/dist-packages (1.0.3)\n",
            "Requirement already satisfied: decorator<5.0,>=4.0.2 in /usr/local/lib/python3.11/dist-packages (from moviepy==1.0.3) (4.4.2)\n",
            "Requirement already satisfied: tqdm<5.0,>=4.11.2 in /usr/local/lib/python3.11/dist-packages (from moviepy==1.0.3) (4.67.1)\n",
            "Requirement already satisfied: requests<3.0,>=2.8.1 in /usr/local/lib/python3.11/dist-packages (from moviepy==1.0.3) (2.32.3)\n",
            "Requirement already satisfied: proglog<=1.0.0 in /usr/local/lib/python3.11/dist-packages (from moviepy==1.0.3) (0.1.11)\n",
            "Requirement already satisfied: numpy>=1.17.3 in /usr/local/lib/python3.11/dist-packages (from moviepy==1.0.3) (2.0.2)\n",
            "Requirement already satisfied: imageio<3.0,>=2.5 in /usr/local/lib/python3.11/dist-packages (from moviepy==1.0.3) (2.37.0)\n",
            "Requirement already satisfied: imageio-ffmpeg>=0.2.0 in /usr/local/lib/python3.11/dist-packages (from moviepy==1.0.3) (0.6.0)\n",
            "Requirement already satisfied: pillow>=8.3.2 in /usr/local/lib/python3.11/dist-packages (from imageio<3.0,>=2.5->moviepy==1.0.3) (11.1.0)\n",
            "Requirement already satisfied: charset-normalizer<4,>=2 in /usr/local/lib/python3.11/dist-packages (from requests<3.0,>=2.8.1->moviepy==1.0.3) (3.4.1)\n",
            "Requirement already satisfied: idna<4,>=2.5 in /usr/local/lib/python3.11/dist-packages (from requests<3.0,>=2.8.1->moviepy==1.0.3) (3.10)\n",
            "Requirement already satisfied: urllib3<3,>=1.21.1 in /usr/local/lib/python3.11/dist-packages (from requests<3.0,>=2.8.1->moviepy==1.0.3) (2.3.0)\n",
            "Requirement already satisfied: certifi>=2017.4.17 in /usr/local/lib/python3.11/dist-packages (from requests<3.0,>=2.8.1->moviepy==1.0.3) (2025.1.31)\n",
            "Requirement already satisfied: imageio_ffmpeg in /usr/local/lib/python3.11/dist-packages (0.6.0)\n",
            "Requirement already satisfied: pyvirtualdisplay in /usr/local/lib/python3.11/dist-packages (3.0)\n",
            "Reading package lists... Done\n",
            "Building dependency tree... Done\n",
            "Reading state information... Done\n",
            "python3-opengl is already the newest version (3.1.5+dfsg-1).\n",
            "ffmpeg is already the newest version (7:4.4.2-0ubuntu0.22.04.1).\n",
            "xvfb is already the newest version (2:21.1.4-2ubuntu1.7~22.04.14).\n",
            "0 upgraded, 0 newly installed, 0 to remove and 30 not upgraded.\n"
          ]
        }
      ],
      "source": [
        "! pip3 install gymnasium\n",
        "! pip3 install torch\n",
        "! pip install pygame\n",
        "! pip install moviepy==1.0.3\n",
        "! pip install imageio_ffmpeg\n",
        "! pip install pyvirtualdisplay\n",
        "! apt-get install -y xvfb python3-opengl ffmpeg"
      ]
    },
    {
      "cell_type": "code",
      "execution_count": null,
      "metadata": {
        "id": "Rim8iocC1Vva"
      },
      "outputs": [],
      "source": [
        "import gymnasium as gym\n",
        "import torch\n",
        "import torch.nn as nn\n",
        "import torch.nn.functional as F\n",
        "from itertools import chain\n",
        "import matplotlib.pyplot as plt\n",
        "from tqdm import tqdm\n",
        "import random\n",
        "from torch.utils.data import Dataset, DataLoader\n",
        "import numpy as np\n",
        "\n",
        "from gymnasium import logger as gymlogger\n",
        "from gymnasium.wrappers import RecordVideo\n",
        "gymlogger.min_level = 40 # Error only\n",
        "\n",
        "import glob\n",
        "import io\n",
        "import base64\n",
        "from IPython.display import HTML\n",
        "from IPython import display as ipythondisplay"
      ]
    },
    {
      "cell_type": "code",
      "execution_count": null,
      "metadata": {
        "id": "l1f8lZp19Lwj",
        "colab": {
          "base_uri": "https://localhost:8080/"
        },
        "outputId": "8b235a55-e2a5-497d-a6c5-f7f1890d87cf"
      },
      "outputs": [
        {
          "output_type": "execute_result",
          "data": {
            "text/plain": [
              "<pyvirtualdisplay.display.Display at 0x7e00590579d0>"
            ]
          },
          "metadata": {},
          "execution_count": 30
        }
      ],
      "source": [
        "from pyvirtualdisplay import Display\n",
        "display = Display(visible=0, size=(1400,900))\n",
        "display.start()"
      ]
    },
    {
      "cell_type": "code",
      "execution_count": null,
      "metadata": {
        "id": "_TI_5c0l9Ojv"
      },
      "outputs": [],
      "source": [
        "def show_video():\n",
        "  mp4list = glob.glob('video/*.mp4')\n",
        "  if len(mp4list) > 0:\n",
        "    mp4 = mp4list[0]\n",
        "    video = io.open(mp4, 'r+b').read()\n",
        "    encoded = base64.b64encode(video)\n",
        "    ipythondisplay.display(HTML(data='''<video alt=\"test\" autoplay\n",
        "                loop controls style=\"height: 400px;\">\n",
        "                <source src=\"data:video/mp4;base64,{0}\" type=\"video/mp4\" />\n",
        "             </video>'''.format(encoded.decode('ascii'))))\n",
        "  else:\n",
        "    print(\"Could not find video\")\n",
        "\n",
        "def wrap_env(env):\n",
        "  env = RecordVideo(env, './video')\n",
        "  return env"
      ]
    },
    {
      "cell_type": "code",
      "source": [
        "show_video()"
      ],
      "metadata": {
        "colab": {
          "base_uri": "https://localhost:8080/",
          "height": 421
        },
        "id": "-_QrnvrRmHhB",
        "outputId": "0b97239d-2572-4b89-9a1b-1dcad0617991"
      },
      "execution_count": null,
      "outputs": [
        {
          "output_type": "display_data",
          "data": {
            "text/plain": [
              "<IPython.core.display.HTML object>"
            ],
            "text/html": [
              "<video alt=\"test\" autoplay\n",
              "                loop controls style=\"height: 400px;\">\n",
              "                <source src=\"data:video/mp4;base64,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\" type=\"video/mp4\" />\n",
              "             </video>"
            ]
          },
          "metadata": {}
        }
      ]
    },
    {
      "cell_type": "markdown",
      "metadata": {
        "id": "mV282uYJ2aSw"
      },
      "source": [
        "## DQN"
      ]
    },
    {
      "cell_type": "markdown",
      "metadata": {
        "id": "Qi_aDdTg2btp"
      },
      "source": [
        "## Part 1\n",
        "\n",
        "\n",
        "Deep Q-Network (https://www.cs.toronto.edu/~vmnih/docs/dqn.pdf) is a Q-learning algorithm that learns values for state-action pairs.\n",
        "\n",
        "Actions are sampled according to an $\\epsilon-greedy$ policy to help with exploration of the state space. Every time an action is sampled, the agent chooses a random action with $\\epsilon$ probability. Otherwise, the agent selects the action with the highest Q-value for a state. $\\epsilon$ decays over time according to $\\epsilon \\gets \\epsilon * epsilon\\_decay$.\n",
        "\n",
        "Tuples of state, action, reward, next_state, and terminal $(s,a,r,s',d)$ are collected during training. Every $learn\\_frequency$ steps $sample\\_size$ tuples are sampled and made into 5 tensors tensors of states, actions, rewarads, next_states, and terminals.\n",
        "\n",
        "The loss for a batch of size N is given below.\n",
        "\n",
        "$Loss=\\frac{1}{N}\\sum \\bigg(Q(s,a) - (r + \\gamma \\underset{a'\\sim A}{max} \\hat{Q}(s',a')(1-d))\\bigg)^2 $\n",
        "\n",
        "Loss is calculated and used to update the Q-Network. The target network $\\hat{Q}$ begins as a copy of the Q network but is not updated by the optimizer. Every $target\\_update$ steps, the target network is updated with the parameters of the Q-Network. This process is a type of bootstrapping.\n",
        "\n",
        "### TODO\n",
        "\n",
        "- Implement get action method with e-greedy policy\n",
        "- Implement sample batch method\n",
        "- Implement DQN learning algorithm\n",
        "\n"
      ]
    },
    {
      "cell_type": "code",
      "execution_count": null,
      "metadata": {
        "id": "_mBUvXkT2dHy"
      },
      "outputs": [],
      "source": [
        "def get_action_dqn(network, state, epsilon, epsilon_decay):\n",
        "  \"\"\"Select action according to e-greedy policy and decay epsilon\n",
        "\n",
        "    Args:\n",
        "        network (QNetwork): Q-Network\n",
        "        state (np-array): current state, size (state_size)\n",
        "        epsilon (float): probability of choosing a random action\n",
        "        epsilon_decay (float): amount by which to decay epsilon\n",
        "\n",
        "    Returns:\n",
        "        action (int): chosen action [0, action_size)\n",
        "        epsilon (float): decayed epsilon\n",
        "  \"\"\"\n",
        "  if random.random() < epsilon:\n",
        "      action_size = network.net[-1].out_features\n",
        "      action = random.randint(0, action_size - 1)\n",
        "  else:\n",
        "      with torch.no_grad():\n",
        "          state_tensor = torch.from_numpy(np.array(state)).float().unsqueeze(0).cuda()\n",
        "          q_values = network(state_tensor)\n",
        "          action = torch.argmax(q_values, dim=1).item()\n",
        "  epsilon = max(0.01, epsilon * epsilon_decay)\n",
        "  return action, epsilon\n",
        "\n",
        "\n",
        "\n",
        "\n",
        "def prepare_batch(memory, batch_size):\n",
        "  \"\"\"Randomly sample batch from memory\n",
        "     Prepare cuda tensors\n",
        "\n",
        "    Args:\n",
        "        memory (list): state, action, next_state, reward, done tuples\n",
        "        batch_size (int): amount of memory to sample into a batch\n",
        "\n",
        "    Returns:\n",
        "        state (tensor): float cuda tensor of size (batch_size x state_size)\n",
        "        action (tensor): long tensor of size (batch_size)\n",
        "        next_state (tensor): float cuda tensor of size (batch_size x state_size)\n",
        "        reward (tensor): float cuda tensor of size (batch_size)\n",
        "        done (tensor): float cuda tensor of size (batch_size)\n",
        "  \"\"\"\n",
        "  batch = random.sample(memory, batch_size)\n",
        "  states, actions, next_states, rewards, dones = zip(*batch)\n",
        "  state = torch.tensor(states, dtype=torch.float32).cuda()\n",
        "  action = torch.tensor(actions, dtype=torch.long).cuda()\n",
        "  reward = torch.tensor(rewards, dtype=torch.float32).cuda()\n",
        "  next_state = torch.tensor(next_states, dtype=torch.float32).cuda()\n",
        "  done = torch.tensor(dones, dtype=torch.float32).cuda()\n",
        "  return state, action, next_state, reward, done\n",
        "\n",
        "def learn_dqn(batch, optim, q_network, target_network, gamma, global_step, target_update):\n",
        "  \"\"\"Update Q-Network according to DQN Loss function\n",
        "     Update Target Network every target_update global steps\n",
        "\n",
        "    Args:\n",
        "        batch (tuple): tuple of state, action, next_state, reward, and done tensors\n",
        "        optim (Adam): Q-Network optimizer\n",
        "        q_network (QNetwork): Q-Network\n",
        "        target_network (QNetwork): Target Q-Network\n",
        "        gamma (float): discount factor\n",
        "        global_step (int): total steps taken in environment\n",
        "        target_update (int): frequency of target network update\n",
        "  \"\"\"\n",
        "  state, action, next_state, reward, done = batch\n",
        "  q_values = q_network(state)\n",
        "  q_value = q_values.gather(1, action.unsqueeze(1)).squeeze(1)\n",
        "  with torch.no_grad():\n",
        "      next_q_values = target_network(next_state)\n",
        "      max_next_q_value = next_q_values.max(1)[0]\n",
        "      target = reward + gamma * max_next_q_value * (1 - done)\n",
        "  loss = F.mse_loss(q_value, target)\n",
        "  optim.zero_grad()\n",
        "  loss.backward()\n",
        "  optim.step()\n",
        "  if global_step % target_update == 0:\n",
        "      target_network.load_state_dict(q_network.state_dict())\n",
        "\n"
      ]
    },
    {
      "cell_type": "markdown",
      "metadata": {
        "id": "vGQgiY0WvImB"
      },
      "source": [
        "### Modules"
      ]
    },
    {
      "cell_type": "code",
      "execution_count": null,
      "metadata": {
        "id": "1vMhl-oevIBo"
      },
      "outputs": [],
      "source": [
        "# Q-Value Network\n",
        "class QNetwork(nn.Module):\n",
        "  def __init__(self, state_size, action_size):\n",
        "    super().__init__()\n",
        "    hidden_size = 8\n",
        "\n",
        "    self.net = nn.Sequential(nn.Linear(state_size, hidden_size),\n",
        "                             nn.ReLU(),\n",
        "                             nn.Linear(hidden_size, hidden_size),\n",
        "                             nn.ReLU(),\n",
        "                             nn.Linear(hidden_size, hidden_size),\n",
        "                             nn.ReLU(),\n",
        "                             nn.Linear(hidden_size, action_size))\n",
        "\n",
        "  def forward(self, x):\n",
        "    \"\"\"Estimate q-values given state\n",
        "\n",
        "      Args:\n",
        "          state (tensor): current state, size (batch x state_size)\n",
        "\n",
        "      Returns:\n",
        "          q-values (tensor): estimated q-values, size (batch x action_size)\n",
        "    \"\"\"\n",
        "    return self.net(x)"
      ]
    },
    {
      "cell_type": "markdown",
      "metadata": {
        "id": "yCafVI552dgg"
      },
      "source": [
        "### Main"
      ]
    },
    {
      "cell_type": "code",
      "execution_count": null,
      "metadata": {
        "id": "8Sy_r9Wr2eg8",
        "colab": {
          "base_uri": "https://localhost:8080/",
          "height": 421
        },
        "outputId": "7417473e-8810-4948-ce7e-2a5738107a31"
      },
      "outputs": [
        {
          "output_type": "stream",
          "name": "stderr",
          "text": []
        },
        {
          "output_type": "display_data",
          "data": {
            "text/plain": [
              "<IPython.core.display.HTML object>"
            ],
            "text/html": [
              "<video alt=\"test\" autoplay\n",
              "                loop controls style=\"height: 400px;\">\n",
              "                <source src=\"data:video/mp4;base64,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\" type=\"video/mp4\" />\n",
              "             </video>"
            ]
          },
          "metadata": {}
        }
      ],
      "source": [
        "def dqn_main():\n",
        "  # Hyper parameters\n",
        "  lr = 1e-3\n",
        "  epochs = 500\n",
        "  start_training = 1000\n",
        "  gamma = 0.99\n",
        "  batch_size = 32\n",
        "  epsilon = 1\n",
        "  epsilon_decay = .9999\n",
        "  target_update = 1000\n",
        "  learn_frequency = 2\n",
        "\n",
        "  # Init environment\n",
        "  state_size = 4\n",
        "  action_size = 2\n",
        "  env = gym.make('CartPole-v1', render_mode=\"rgb_array\")\n",
        "\n",
        "  # Init networks\n",
        "  q_network = QNetwork(state_size, action_size).cuda()\n",
        "  target_network = QNetwork(state_size, action_size).cuda()\n",
        "  target_network.load_state_dict(q_network.state_dict())\n",
        "\n",
        "  # Init optimizer\n",
        "  optim = torch.optim.Adam(q_network.parameters(), lr=lr)\n",
        "\n",
        "  # Init replay buffer\n",
        "  memory = []\n",
        "\n",
        "  # Begin main loop\n",
        "  results_dqn = []\n",
        "  global_step = 0\n",
        "  loop = tqdm(total=epochs, position=0, leave=False)\n",
        "  for epoch in range(epochs):\n",
        "    last_epoch = (epoch+1 == epochs)\n",
        "    # Record the last epoch, not the previous epochs\n",
        "    if last_epoch:\n",
        "      env = wrap_env(env)\n",
        "\n",
        "    # Reset environment\n",
        "    state, _ = env.reset()\n",
        "    done = False\n",
        "    cum_reward = 0  # Track cumulative reward per episode\n",
        "\n",
        "    # Begin episode\n",
        "    while not done and cum_reward < 200:  # End after 200 steps\n",
        "      # Select e-greedy action\n",
        "      action, epsilon = get_action_dqn(q_network, state, epsilon, epsilon_decay)\n",
        "\n",
        "      # Take step\n",
        "      next_state, reward, terminated, truncated, _ = env.step(action)\n",
        "      done = terminated or truncated\n",
        "      # env.render()\n",
        "\n",
        "      # Store step in replay buffer\n",
        "      memory.append((state, action, next_state, reward, done))\n",
        "\n",
        "      cum_reward += reward\n",
        "      global_step += 1  # Increment total steps\n",
        "      state = next_state  # Set current state\n",
        "\n",
        "      # If time to train\n",
        "      if global_step > start_training and global_step % learn_frequency == 0:\n",
        "\n",
        "        # Sample batch\n",
        "        batch = prepare_batch(memory, batch_size)\n",
        "\n",
        "        # Train\n",
        "        learn_dqn(batch, optim, q_network, target_network, gamma, global_step, target_update)\n",
        "    env.close()\n",
        "    # Print results at end of episode\n",
        "    results_dqn.append(cum_reward)\n",
        "    loop.update(1)\n",
        "    loop.set_description('Episodes: {} Reward: {}'.format(epoch, cum_reward))\n",
        "\n",
        "  return results_dqn\n",
        "\n",
        "results_dqn = dqn_main()\n",
        "show_video()"
      ]
    },
    {
      "cell_type": "code",
      "execution_count": null,
      "metadata": {
        "id": "ZWYwytCDC3aw",
        "colab": {
          "base_uri": "https://localhost:8080/",
          "height": 430
        },
        "outputId": "5f88de8c-3c63-462c-88f9-c77869c1c542"
      },
      "outputs": [
        {
          "output_type": "display_data",
          "data": {
            "text/plain": [
              "<Figure size 640x480 with 1 Axes>"
            ],
            "image/png": "[encoded data removed]"
          },
          "metadata": {}
        }
      ],
      "source": [
        "plt.plot(results_dqn)\n",
        "plt.show()"
      ]
    },
    {
      "cell_type": "markdown",
      "metadata": {
        "id": "qN9yy5EWVNz0"
      },
      "source": [
        "## PPO"
      ]
    },
    {
      "cell_type": "markdown",
      "metadata": {
        "id": "XvRUJUew0yN_"
      },
      "source": [
        "## Part 2\n",
        "\n",
        "Proximal Policy Optimization (https://arxiv.org/pdf/1707.06347.pdf) is a type of policy gradient method. Instead of calculating Q-values, we train a network $\\pi$ to optimize the probability of taking good actions directly, using states as inputs and actions as outputs. PPO also uses a value network $V$ that estimates state values in order to estimate the advantage $\\hat{A}$.\n",
        "\n",
        "Tuples of state, action distribution, action taken, and return $(s,\\pi(s), a,\\hat{R})$ are gathered for several rollouts. After training on this experience, these tuples are discarded and new experience is gathered.\n",
        "\n",
        "Loss for the value network and the policy network are calculated according to the following formula:\n",
        "\n",
        "$Loss=ValueLoss+PolicyLoss$\n",
        "\n",
        "$ValueLoss=\\frac{1}{N}\\sum \\bigg(\\hat{R} - V(s) \\bigg)^2 $\n",
        "\n",
        "$PolicyLoss=-\\frac{1}{N}\\sum \\min\\bigg( \\frac{\\pi'(a|s)}{\\pi(a|s)} \\hat{A}, clip(\\frac{\\pi'(a|s)}{\\pi(a|s)},1-\\epsilon,1+\\epsilon) \\hat{A} \\bigg) $\n",
        "\n",
        "$\\hat{R}_t = \\sum_{i=t}^H \\gamma^{i-t}r_i$\n",
        "\n",
        "$\\hat{A}_t=\\hat{R}_t-V(s_t)$\n",
        "\n",
        "Here, $\\pi'(a|s)$ is the probability of taking an action given a state under the current policy and $\\pi(a|s)$ is the probability of taking an action given a state under the policy used to gather data. In the loss function, $a$ is the action your agent actually took and is sampled from memory.\n",
        "\n",
        "Additionally, the $clip$ function clips the value of the first argument according to the lower and upper bounds in the second and third arguments resectively.\n",
        "\n",
        "Another important note: Your the calculation of your advantage $\\hat{A}$ should not permit gradient flow from your policy loss calculation. In other words, make sure to call `.detach()` on your advantage.\n",
        "\n",
        "### TODO\n",
        "\n",
        "- Implement calculate return method\n",
        "- Implement get action method\n",
        "- Implement PPO learning algorithm"
      ]
    },
    {
      "cell_type": "code",
      "execution_count": null,
      "metadata": {
        "id": "zsm1pILHVcEp"
      },
      "outputs": [],
      "source": [
        "def calculate_return(memory, rollout, gamma):\n",
        "    \"\"\"\n",
        "    Return memory with calculated return in experience tuple.\n",
        "\n",
        "    Args:\n",
        "        memory (list): List of (state, action, action_dist, return) tuples\n",
        "        rollout (list): List of (state, action, action_dist, reward) tuples for one episode\n",
        "        gamma (float): Discount factor\n",
        "\n",
        "    Returns:\n",
        "        list: memory updated with (state, action, action_dist, return) tuples from rollout\n",
        "    \"\"\"\n",
        "    discounted_returns = []\n",
        "    G = 0\n",
        "    for (_, _, _, reward) in reversed(rollout):\n",
        "        G = reward + gamma * G\n",
        "        discounted_returns.append(G)\n",
        "    discounted_returns.reverse()\n",
        "\n",
        "    # rollout[i] = (s, a, dist, r)\n",
        "    for i, (s, a, dist, _) in enumerate(rollout):\n",
        "        R = discounted_returns[i]\n",
        "        memory.append((s, a, dist, R))\n",
        "\n",
        "    return memory\n",
        "\n",
        "\n",
        "def get_action_ppo(network, state):\n",
        "    \"\"\"\n",
        "    Sample action from the distribution obtained from the policy network.\n",
        "\n",
        "    Args:\n",
        "        network (PolicyNetwork): Policy Network\n",
        "        state (np-array): current state, shape (state_size,)\n",
        "\n",
        "    Returns:\n",
        "        action (int): sampled action\n",
        "        action_probs_np (np.array): the entire probability distribution over actions\n",
        "    \"\"\"\n",
        "    # Convert to tensor on GPU if available\n",
        "    state_tensor = torch.tensor(state, dtype=torch.float32).unsqueeze(0).cuda()\n",
        "\n",
        "    with torch.no_grad():\n",
        "        # action_probs is shape (1, action_size)\n",
        "        action_probs = network(state_tensor)\n",
        "\n",
        "    dist = torch.distributions.Categorical(action_probs)\n",
        "    action_tensor = dist.sample()  # shape [1]\n",
        "    action = action_tensor.item()\n",
        "\n",
        "    return action, action_probs.cpu().numpy().squeeze(0)\n",
        "\n",
        "\n",
        "def learn_ppo(optim, policy, value, memory_dataloader, epsilon, policy_epochs):\n",
        "    \"\"\"\n",
        "    Implement PPO policy and value network updates. Iterate over your entire\n",
        "    memory the number of times indicated by policy_epochs.\n",
        "\n",
        "    Args:\n",
        "        optim (torch.optim.Optimizer): value+policy shared optimizer\n",
        "        policy (PolicyNetwork): Policy Network\n",
        "        value (ValueNetwork): Value Network\n",
        "        memory_dataloader (DataLoader): yields (state, action, old_action_dist, returns)\n",
        "        epsilon (float): trust region for clipping\n",
        "        policy_epochs (int): number of epochs to iterate over the entire memory\n",
        "    \"\"\"\n",
        "    for _ in range(policy_epochs):\n",
        "        for batch in memory_dataloader:\n",
        "            states, actions, old_dists, returns = batch\n",
        "\n",
        "            states = states.float().cuda()\n",
        "            actions = actions.long().cuda()\n",
        "            old_dists = old_dists.float().cuda()\n",
        "            returns = returns.float().cuda()\n",
        "\n",
        "            new_dists = policy(states)\n",
        "\n",
        "            new_action_probs = new_dists.gather(1, actions.unsqueeze(1)).squeeze(1)\n",
        "            old_action_probs = old_dists.gather(1, actions.unsqueeze(1)).squeeze(1)\n",
        "\n",
        "            ratio = new_action_probs / (old_action_probs + 1e-8)\n",
        "\n",
        "            values = value(states)\n",
        "            advantage = (returns - values).detach()\n",
        "\n",
        "            unclipped_obj = ratio * advantage\n",
        "            clipped_obj = torch.clamp(ratio, 1 - epsilon, 1 + epsilon) * advantage\n",
        "            policy_loss = -torch.mean(torch.min(unclipped_obj, clipped_obj))\n",
        "\n",
        "            value_loss = F.mse_loss(values, returns)\n",
        "\n",
        "            total_loss = policy_loss + value_loss\n",
        "\n",
        "            optim.zero_grad()\n",
        "            total_loss.backward()\n",
        "            optim.step()\n",
        "\n"
      ]
    },
    {
      "cell_type": "markdown",
      "metadata": {
        "id": "R6RXma_-vSGX"
      },
      "source": [
        "### Modules"
      ]
    },
    {
      "cell_type": "code",
      "execution_count": null,
      "metadata": {
        "id": "L8URnP8xvTTG"
      },
      "outputs": [],
      "source": [
        "# Dataset that wraps memory for a dataloader\n",
        "class RLDataset(Dataset):\n",
        "  def __init__(self, data):\n",
        "    super().__init__()\n",
        "    self.data = []\n",
        "    for d in data:\n",
        "      self.data.append(d)\n",
        "\n",
        "  def __getitem__(self, index):\n",
        "    return self.data[index]\n",
        "\n",
        "  def __len__(self):\n",
        "    return len(self.data)\n",
        "\n",
        "\n",
        "# Policy Network\n",
        "class PolicyNetwork(nn.Module):\n",
        "  def __init__(self, state_size, action_size):\n",
        "    super().__init__()\n",
        "    hidden_size = 8\n",
        "\n",
        "    self.net = nn.Sequential(nn.Linear(state_size, hidden_size),\n",
        "                             nn.ReLU(),\n",
        "                             nn.Linear(hidden_size, hidden_size),\n",
        "                             nn.ReLU(),\n",
        "                             nn.Linear(hidden_size, hidden_size),\n",
        "                             nn.ReLU(),\n",
        "                             nn.Linear(hidden_size, action_size),\n",
        "                             nn.Softmax(dim=1))\n",
        "\n",
        "  def forward(self, x):\n",
        "    \"\"\"Get policy from state\n",
        "\n",
        "      Args:\n",
        "          state (tensor): current state, size (batch x state_size)\n",
        "\n",
        "      Returns:\n",
        "          action_dist (tensor): probability distribution over actions (batch x action_size)\n",
        "    \"\"\"\n",
        "    return self.net(x)\n",
        "\n",
        "\n",
        "# Value Network\n",
        "class ValueNetwork(nn.Module):\n",
        "  def __init__(self, state_size):\n",
        "    super().__init__()\n",
        "    hidden_size = 8\n",
        "\n",
        "    self.net = nn.Sequential(nn.Linear(state_size, hidden_size),\n",
        "                             nn.ReLU(),\n",
        "                             nn.Linear(hidden_size, hidden_size),\n",
        "                             nn.ReLU(),\n",
        "                             nn.Linear(hidden_size, hidden_size),\n",
        "                             nn.ReLU(),\n",
        "                             nn.Linear(hidden_size, 1))\n",
        "\n",
        "  def forward(self, x):\n",
        "    \"\"\"Estimate value given state\n",
        "\n",
        "      Args:\n",
        "          state (tensor): current state, size (batch x state_size)\n",
        "\n",
        "      Returns:\n",
        "          value (tensor): estimated value, size (batch)\n",
        "    \"\"\"\n",
        "    return self.net(x)"
      ]
    },
    {
      "cell_type": "markdown",
      "metadata": {
        "id": "_aBD_R_e01Qb"
      },
      "source": [
        "### Main"
      ]
    },
    {
      "cell_type": "code",
      "execution_count": null,
      "metadata": {
        "id": "qX_Bv4M4MyY2",
        "colab": {
          "base_uri": "https://localhost:8080/",
          "height": 1000
        },
        "outputId": "bfa7c7c7-1ee2-4415-f217-c7c9cc3a93ab"
      },
      "outputs": [
        {
          "output_type": "stream",
          "name": "stderr",
          "text": [
            "\r  0%|          | 0/100 [00:00<?, ?it/s]<ipython-input-56-d8869d897c2c>:203: UserWarning: Using a target size (torch.Size([256])) that is different to the input size (torch.Size([256, 1])). This will likely lead to incorrect results due to broadcasting. Please ensure they have the same size.\n",
            "  value_loss = F.mse_loss(values, returns)\n",
            "<ipython-input-56-d8869d897c2c>:203: UserWarning: Using a target size (torch.Size([175])) that is different to the input size (torch.Size([175, 1])). This will likely lead to incorrect results due to broadcasting. Please ensure they have the same size.\n",
            "  value_loss = F.mse_loss(values, returns)\n",
            "Epochs: 0 Reward: 16.0:   1%|          | 1/100 [00:01<03:06,  1.89s/it]<ipython-input-56-d8869d897c2c>:203: UserWarning: Using a target size (torch.Size([217])) that is different to the input size (torch.Size([217, 1])). This will likely lead to incorrect results due to broadcasting. Please ensure they have the same size.\n",
            "  value_loss = F.mse_loss(values, returns)\n",
            "Epochs: 1 Reward: 18.0:   2%|▏         | 2/100 [00:03<03:03,  1.87s/it]<ipython-input-56-d8869d897c2c>:203: UserWarning: Using a target size (torch.Size([92])) that is different to the input size (torch.Size([92, 1])). This will likely lead to incorrect results due to broadcasting. Please ensure they have the same size.\n",
            "  value_loss = F.mse_loss(values, returns)\n",
            "Epochs: 2 Reward: 36.0:   3%|▎         | 3/100 [00:05<03:06,  1.92s/it]<ipython-input-56-d8869d897c2c>:203: UserWarning: Using a target size (torch.Size([144])) that is different to the input size (torch.Size([144, 1])). This will likely lead to incorrect results due to broadcasting. Please ensure they have the same size.\n",
            "  value_loss = F.mse_loss(values, returns)\n",
            "Epochs: 3 Reward: 46.0:   4%|▍         | 4/100 [00:07<03:11,  1.99s/it]<ipython-input-56-d8869d897c2c>:203: UserWarning: Using a target size (torch.Size([116])) that is different to the input size (torch.Size([116, 1])). This will likely lead to incorrect results due to broadcasting. Please ensure they have the same size.\n",
            "  value_loss = F.mse_loss(values, returns)\n",
            "Epochs: 4 Reward: 19.0:   5%|▌         | 5/100 [00:10<03:41,  2.33s/it]<ipython-input-56-d8869d897c2c>:203: UserWarning: Using a target size (torch.Size([198])) that is different to the input size (torch.Size([198, 1])). This will likely lead to incorrect results due to broadcasting. Please ensure they have the same size.\n",
            "  value_loss = F.mse_loss(values, returns)\n",
            "Epochs: 5 Reward: 50.0:   6%|▌         | 6/100 [00:13<03:54,  2.50s/it]<ipython-input-56-d8869d897c2c>:203: UserWarning: Using a target size (torch.Size([210])) that is different to the input size (torch.Size([210, 1])). This will likely lead to incorrect results due to broadcasting. Please ensure they have the same size.\n",
            "  value_loss = F.mse_loss(values, returns)\n",
            "Epochs: 6 Reward: 10.0:   7%|▋         | 7/100 [00:16<04:10,  2.69s/it]<ipython-input-56-d8869d897c2c>:203: UserWarning: Using a target size (torch.Size([168])) that is different to the input size (torch.Size([168, 1])). This will likely lead to incorrect results due to broadcasting. Please ensure they have the same size.\n",
            "  value_loss = F.mse_loss(values, returns)\n",
            "Epochs: 7 Reward: 29.0:   8%|▊         | 8/100 [00:21<05:15,  3.43s/it]<ipython-input-56-d8869d897c2c>:203: UserWarning: Using a target size (torch.Size([41])) that is different to the input size (torch.Size([41, 1])). This will likely lead to incorrect results due to broadcasting. Please ensure they have the same size.\n",
            "  value_loss = F.mse_loss(values, returns)\n",
            "Epochs: 8 Reward: 22.0:   9%|▉         | 9/100 [00:29<07:09,  4.71s/it]<ipython-input-56-d8869d897c2c>:203: UserWarning: Using a target size (torch.Size([218])) that is different to the input size (torch.Size([218, 1])). This will likely lead to incorrect results due to broadcasting. Please ensure they have the same size.\n",
            "  value_loss = F.mse_loss(values, returns)\n",
            "Epochs: 9 Reward: 189.0:  10%|█         | 10/100 [00:40<10:00,  6.67s/it]<ipython-input-56-d8869d897c2c>:203: UserWarning: Using a target size (torch.Size([227])) that is different to the input size (torch.Size([227, 1])). This will likely lead to incorrect results due to broadcasting. Please ensure they have the same size.\n",
            "  value_loss = F.mse_loss(values, returns)\n",
            "Epochs: 10 Reward: 200.0:  11%|█         | 11/100 [00:55<13:49,  9.32s/it]<ipython-input-56-d8869d897c2c>:203: UserWarning: Using a target size (torch.Size([10])) that is different to the input size (torch.Size([10, 1])). This will likely lead to incorrect results due to broadcasting. Please ensure they have the same size.\n",
            "  value_loss = F.mse_loss(values, returns)\n",
            "Epochs: 11 Reward: 21.0:  12%|█▏        | 12/100 [01:14<17:47, 12.13s/it] <ipython-input-56-d8869d897c2c>:203: UserWarning: Using a target size (torch.Size([183])) that is different to the input size (torch.Size([183, 1])). This will likely lead to incorrect results due to broadcasting. Please ensure they have the same size.\n",
            "  value_loss = F.mse_loss(values, returns)\n",
            "Epochs: 12 Reward: 187.0:  13%|█▎        | 13/100 [01:32<20:12, 13.93s/it]<ipython-input-56-d8869d897c2c>:203: UserWarning: Using a target size (torch.Size([157])) that is different to the input size (torch.Size([157, 1])). This will likely lead to incorrect results due to broadcasting. Please ensure they have the same size.\n",
            "  value_loss = F.mse_loss(values, returns)\n",
            "Epochs: 13 Reward: 200.0:  14%|█▍        | 14/100 [01:52<22:29, 15.70s/it]<ipython-input-56-d8869d897c2c>:203: UserWarning: Using a target size (torch.Size([53])) that is different to the input size (torch.Size([53, 1])). This will likely lead to incorrect results due to broadcasting. Please ensure they have the same size.\n",
            "  value_loss = F.mse_loss(values, returns)\n",
            "Epochs: 14 Reward: 200.0:  15%|█▌        | 15/100 [02:10<23:32, 16.62s/it]<ipython-input-56-d8869d897c2c>:203: UserWarning: Using a target size (torch.Size([107])) that is different to the input size (torch.Size([107, 1])). This will likely lead to incorrect results due to broadcasting. Please ensure they have the same size.\n",
            "  value_loss = F.mse_loss(values, returns)\n",
            "Epochs: 15 Reward: 161.0:  16%|█▌        | 16/100 [02:30<24:26, 17.45s/it]<ipython-input-56-d8869d897c2c>:203: UserWarning: Using a target size (torch.Size([239])) that is different to the input size (torch.Size([239, 1])). This will likely lead to incorrect results due to broadcasting. Please ensure they have the same size.\n",
            "  value_loss = F.mse_loss(values, returns)\n",
            "Epochs: 16 Reward: 200.0:  17%|█▋        | 17/100 [02:49<25:07, 18.16s/it]<ipython-input-56-d8869d897c2c>:203: UserWarning: Using a target size (torch.Size([12])) that is different to the input size (torch.Size([12, 1])). This will likely lead to incorrect results due to broadcasting. Please ensure they have the same size.\n",
            "  value_loss = F.mse_loss(values, returns)\n",
            "Epochs: 17 Reward: 200.0:  18%|█▊        | 18/100 [03:08<25:03, 18.34s/it]<ipython-input-56-d8869d897c2c>:203: UserWarning: Using a target size (torch.Size([22])) that is different to the input size (torch.Size([22, 1])). This will likely lead to incorrect results due to broadcasting. Please ensure they have the same size.\n",
            "  value_loss = F.mse_loss(values, returns)\n",
            "Epochs: 18 Reward: 200.0:  19%|█▉        | 19/100 [03:28<25:16, 18.73s/it]<ipython-input-56-d8869d897c2c>:203: UserWarning: Using a target size (torch.Size([252])) that is different to the input size (torch.Size([252, 1])). This will likely lead to incorrect results due to broadcasting. Please ensure they have the same size.\n",
            "  value_loss = F.mse_loss(values, returns)\n",
            "Epochs: 19 Reward: 179.0:  20%|██        | 20/100 [03:47<25:11, 18.90s/it]<ipython-input-56-d8869d897c2c>:203: UserWarning: Using a target size (torch.Size([142])) that is different to the input size (torch.Size([142, 1])). This will likely lead to incorrect results due to broadcasting. Please ensure they have the same size.\n",
            "  value_loss = F.mse_loss(values, returns)\n",
            "Epochs: 20 Reward: 200.0:  21%|██        | 21/100 [04:07<25:06, 19.07s/it]<ipython-input-56-d8869d897c2c>:203: UserWarning: Using a target size (torch.Size([242])) that is different to the input size (torch.Size([242, 1])). This will likely lead to incorrect results due to broadcasting. Please ensure they have the same size.\n",
            "  value_loss = F.mse_loss(values, returns)\n",
            "Epochs: 21 Reward: 200.0:  22%|██▏       | 22/100 [04:27<25:17, 19.46s/it]<ipython-input-56-d8869d897c2c>:203: UserWarning: Using a target size (torch.Size([140])) that is different to the input size (torch.Size([140, 1])). This will likely lead to incorrect results due to broadcasting. Please ensure they have the same size.\n",
            "  value_loss = F.mse_loss(values, returns)\n",
            "Epochs: 22 Reward: 200.0:  23%|██▎       | 23/100 [04:46<24:59, 19.48s/it]<ipython-input-56-d8869d897c2c>:203: UserWarning: Using a target size (torch.Size([225])) that is different to the input size (torch.Size([225, 1])). This will likely lead to incorrect results due to broadcasting. Please ensure they have the same size.\n",
            "  value_loss = F.mse_loss(values, returns)\n",
            "Epochs: 23 Reward: 200.0:  24%|██▍       | 24/100 [05:07<24:54, 19.66s/it]<ipython-input-56-d8869d897c2c>:203: UserWarning: Using a target size (torch.Size([121])) that is different to the input size (torch.Size([121, 1])). This will likely lead to incorrect results due to broadcasting. Please ensure they have the same size.\n",
            "  value_loss = F.mse_loss(values, returns)\n",
            "Epochs: 25 Reward: 200.0:  26%|██▌       | 26/100 [05:47<24:27, 19.83s/it]<ipython-input-56-d8869d897c2c>:203: UserWarning: Using a target size (torch.Size([64])) that is different to the input size (torch.Size([64, 1])). This will likely lead to incorrect results due to broadcasting. Please ensure they have the same size.\n",
            "  value_loss = F.mse_loss(values, returns)\n",
            "Epochs: 27 Reward: 200.0:  28%|██▊       | 28/100 [06:26<23:51, 19.89s/it]<ipython-input-56-d8869d897c2c>:203: UserWarning: Using a target size (torch.Size([75])) that is different to the input size (torch.Size([75, 1])). This will likely lead to incorrect results due to broadcasting. Please ensure they have the same size.\n",
            "  value_loss = F.mse_loss(values, returns)\n",
            "Epochs: 30 Reward: 192.0:  31%|███       | 31/100 [07:25<22:28, 19.55s/it]<ipython-input-56-d8869d897c2c>:203: UserWarning: Using a target size (torch.Size([152])) that is different to the input size (torch.Size([152, 1])). This will likely lead to incorrect results due to broadcasting. Please ensure they have the same size.\n",
            "  value_loss = F.mse_loss(values, returns)\n",
            "Epochs: 31 Reward: 197.0:  32%|███▏      | 32/100 [07:44<21:56, 19.36s/it]<ipython-input-56-d8869d897c2c>:203: UserWarning: Using a target size (torch.Size([56])) that is different to the input size (torch.Size([56, 1])). This will likely lead to incorrect results due to broadcasting. Please ensure they have the same size.\n",
            "  value_loss = F.mse_loss(values, returns)\n",
            "Epochs: 32 Reward: 200.0:  33%|███▎      | 33/100 [08:04<21:48, 19.54s/it]<ipython-input-56-d8869d897c2c>:203: UserWarning: Using a target size (torch.Size([180])) that is different to the input size (torch.Size([180, 1])). This will likely lead to incorrect results due to broadcasting. Please ensure they have the same size.\n",
            "  value_loss = F.mse_loss(values, returns)\n",
            "Epochs: 33 Reward: 200.0:  34%|███▍      | 34/100 [08:24<21:49, 19.83s/it]<ipython-input-56-d8869d897c2c>:203: UserWarning: Using a target size (torch.Size([122])) that is different to the input size (torch.Size([122, 1])). This will likely lead to incorrect results due to broadcasting. Please ensure they have the same size.\n",
            "  value_loss = F.mse_loss(values, returns)\n",
            "Epochs: 34 Reward: 200.0:  35%|███▌      | 35/100 [08:46<21:57, 20.27s/it]<ipython-input-56-d8869d897c2c>:203: UserWarning: Using a target size (torch.Size([246])) that is different to the input size (torch.Size([246, 1])). This will likely lead to incorrect results due to broadcasting. Please ensure they have the same size.\n",
            "  value_loss = F.mse_loss(values, returns)\n",
            "Epochs: 35 Reward: 194.0:  36%|███▌      | 36/100 [09:07<21:50, 20.48s/it]<ipython-input-56-d8869d897c2c>:203: UserWarning: Using a target size (torch.Size([145])) that is different to the input size (torch.Size([145, 1])). This will likely lead to incorrect results due to broadcasting. Please ensure they have the same size.\n",
            "  value_loss = F.mse_loss(values, returns)\n",
            "Epochs: 36 Reward: 200.0:  37%|███▋      | 37/100 [09:27<21:25, 20.40s/it]<ipython-input-56-d8869d897c2c>:203: UserWarning: Using a target size (torch.Size([149])) that is different to the input size (torch.Size([149, 1])). This will likely lead to incorrect results due to broadcasting. Please ensure they have the same size.\n",
            "  value_loss = F.mse_loss(values, returns)\n",
            "Epochs: 37 Reward: 200.0:  38%|███▊      | 38/100 [09:47<20:55, 20.25s/it]<ipython-input-56-d8869d897c2c>:203: UserWarning: Using a target size (torch.Size([15])) that is different to the input size (torch.Size([15, 1])). This will likely lead to incorrect results due to broadcasting. Please ensure they have the same size.\n",
            "  value_loss = F.mse_loss(values, returns)\n",
            "Epochs: 40 Reward: 200.0:  41%|████      | 41/100 [10:47<19:48, 20.14s/it]<ipython-input-56-d8869d897c2c>:203: UserWarning: Using a target size (torch.Size([235])) that is different to the input size (torch.Size([235, 1])). This will likely lead to incorrect results due to broadcasting. Please ensure they have the same size.\n",
            "  value_loss = F.mse_loss(values, returns)\n",
            "Epochs: 41 Reward: 200.0:  42%|████▏     | 42/100 [11:07<19:14, 19.91s/it]<ipython-input-56-d8869d897c2c>:203: UserWarning: Using a target size (torch.Size([237])) that is different to the input size (torch.Size([237, 1])). This will likely lead to incorrect results due to broadcasting. Please ensure they have the same size.\n",
            "  value_loss = F.mse_loss(values, returns)\n",
            "Epochs: 42 Reward: 200.0:  43%|████▎     | 43/100 [11:27<18:55, 19.92s/it]<ipython-input-56-d8869d897c2c>:203: UserWarning: Using a target size (torch.Size([128])) that is different to the input size (torch.Size([128, 1])). This will likely lead to incorrect results due to broadcasting. Please ensure they have the same size.\n",
            "  value_loss = F.mse_loss(values, returns)\n",
            "Epochs: 43 Reward: 200.0:  44%|████▍     | 44/100 [11:48<18:58, 20.33s/it]<ipython-input-56-d8869d897c2c>:203: UserWarning: Using a target size (torch.Size([117])) that is different to the input size (torch.Size([117, 1])). This will likely lead to incorrect results due to broadcasting. Please ensure they have the same size.\n",
            "  value_loss = F.mse_loss(values, returns)\n",
            "Epochs: 45 Reward: 195.0:  46%|████▌     | 46/100 [12:30<18:38, 20.71s/it]<ipython-input-56-d8869d897c2c>:203: UserWarning: Using a target size (torch.Size([134])) that is different to the input size (torch.Size([134, 1])). This will likely lead to incorrect results due to broadcasting. Please ensure they have the same size.\n",
            "  value_loss = F.mse_loss(values, returns)\n",
            "Epochs: 46 Reward: 200.0:  47%|████▋     | 47/100 [12:51<18:28, 20.92s/it]<ipython-input-56-d8869d897c2c>:203: UserWarning: Using a target size (torch.Size([226])) that is different to the input size (torch.Size([226, 1])). This will likely lead to incorrect results due to broadcasting. Please ensure they have the same size.\n",
            "  value_loss = F.mse_loss(values, returns)\n",
            "Epochs: 47 Reward: 200.0:  48%|████▊     | 48/100 [13:11<17:45, 20.48s/it]<ipython-input-56-d8869d897c2c>:203: UserWarning: Using a target size (torch.Size([219])) that is different to the input size (torch.Size([219, 1])). This will likely lead to incorrect results due to broadcasting. Please ensure they have the same size.\n",
            "  value_loss = F.mse_loss(values, returns)\n",
            "Epochs: 48 Reward: 200.0:  49%|████▉     | 49/100 [13:31<17:10, 20.22s/it]<ipython-input-56-d8869d897c2c>:203: UserWarning: Using a target size (torch.Size([112])) that is different to the input size (torch.Size([112, 1])). This will likely lead to incorrect results due to broadcasting. Please ensure they have the same size.\n",
            "  value_loss = F.mse_loss(values, returns)\n",
            "Epochs: 49 Reward: 200.0:  50%|█████     | 50/100 [13:49<16:19, 19.59s/it]<ipython-input-56-d8869d897c2c>:203: UserWarning: Using a target size (torch.Size([143])) that is different to the input size (torch.Size([143, 1])). This will likely lead to incorrect results due to broadcasting. Please ensure they have the same size.\n",
            "  value_loss = F.mse_loss(values, returns)\n",
            "Epochs: 50 Reward: 200.0:  51%|█████     | 51/100 [14:07<15:47, 19.33s/it]<ipython-input-56-d8869d897c2c>:203: UserWarning: Using a target size (torch.Size([251])) that is different to the input size (torch.Size([251, 1])). This will likely lead to incorrect results due to broadcasting. Please ensure they have the same size.\n",
            "  value_loss = F.mse_loss(values, returns)\n",
            "Epochs: 51 Reward: 170.0:  52%|█████▏    | 52/100 [14:25<15:09, 18.94s/it]<ipython-input-56-d8869d897c2c>:203: UserWarning: Using a target size (torch.Size([27])) that is different to the input size (torch.Size([27, 1])). This will likely lead to incorrect results due to broadcasting. Please ensure they have the same size.\n",
            "  value_loss = F.mse_loss(values, returns)\n",
            "Epochs: 52 Reward: 200.0:  53%|█████▎    | 53/100 [14:44<14:47, 18.89s/it]<ipython-input-56-d8869d897c2c>:203: UserWarning: Using a target size (torch.Size([6])) that is different to the input size (torch.Size([6, 1])). This will likely lead to incorrect results due to broadcasting. Please ensure they have the same size.\n",
            "  value_loss = F.mse_loss(values, returns)\n",
            "Epochs: 53 Reward: 200.0:  54%|█████▍    | 54/100 [15:03<14:21, 18.72s/it]<ipython-input-56-d8869d897c2c>:203: UserWarning: Using a target size (torch.Size([188])) that is different to the input size (torch.Size([188, 1])). This will likely lead to incorrect results due to broadcasting. Please ensure they have the same size.\n",
            "  value_loss = F.mse_loss(values, returns)\n",
            "Epochs: 54 Reward: 139.0:  55%|█████▌    | 55/100 [15:20<13:46, 18.37s/it]<ipython-input-56-d8869d897c2c>:203: UserWarning: Using a target size (torch.Size([137])) that is different to the input size (torch.Size([137, 1])). This will likely lead to incorrect results due to broadcasting. Please ensure they have the same size.\n",
            "  value_loss = F.mse_loss(values, returns)\n",
            "Epochs: 55 Reward: 192.0:  56%|█████▌    | 56/100 [15:38<13:16, 18.11s/it]<ipython-input-56-d8869d897c2c>:203: UserWarning: Using a target size (torch.Size([216])) that is different to the input size (torch.Size([216, 1])). This will likely lead to incorrect results due to broadcasting. Please ensure they have the same size.\n",
            "  value_loss = F.mse_loss(values, returns)\n",
            "Epochs: 56 Reward: 171.0:  57%|█████▋    | 57/100 [15:55<12:53, 17.98s/it]<ipython-input-56-d8869d897c2c>:203: UserWarning: Using a target size (torch.Size([184])) that is different to the input size (torch.Size([184, 1])). This will likely lead to incorrect results due to broadcasting. Please ensure they have the same size.\n",
            "  value_loss = F.mse_loss(values, returns)\n",
            "Epochs: 57 Reward: 157.0:  58%|█████▊    | 58/100 [16:12<12:23, 17.71s/it]<ipython-input-56-d8869d897c2c>:203: UserWarning: Using a target size (torch.Size([62])) that is different to the input size (torch.Size([62, 1])). This will likely lead to incorrect results due to broadcasting. Please ensure they have the same size.\n",
            "  value_loss = F.mse_loss(values, returns)\n",
            "Epochs: 58 Reward: 200.0:  59%|█████▉    | 59/100 [16:29<11:54, 17.43s/it]<ipython-input-56-d8869d897c2c>:203: UserWarning: Using a target size (torch.Size([159])) that is different to the input size (torch.Size([159, 1])). This will likely lead to incorrect results due to broadcasting. Please ensure they have the same size.\n",
            "  value_loss = F.mse_loss(values, returns)\n",
            "Epochs: 59 Reward: 200.0:  60%|██████    | 60/100 [16:46<11:28, 17.21s/it]<ipython-input-56-d8869d897c2c>:203: UserWarning: Using a target size (torch.Size([86])) that is different to the input size (torch.Size([86, 1])). This will likely lead to incorrect results due to broadcasting. Please ensure they have the same size.\n",
            "  value_loss = F.mse_loss(values, returns)\n",
            "Epochs: 60 Reward: 145.0:  61%|██████    | 61/100 [17:03<11:07, 17.12s/it]<ipython-input-56-d8869d897c2c>:203: UserWarning: Using a target size (torch.Size([103])) that is different to the input size (torch.Size([103, 1])). This will likely lead to incorrect results due to broadcasting. Please ensure they have the same size.\n",
            "  value_loss = F.mse_loss(values, returns)\n",
            "Epochs: 61 Reward: 144.0:  62%|██████▏   | 62/100 [17:21<11:00, 17.38s/it]<ipython-input-56-d8869d897c2c>:203: UserWarning: Using a target size (torch.Size([2])) that is different to the input size (torch.Size([2, 1])). This will likely lead to incorrect results due to broadcasting. Please ensure they have the same size.\n",
            "  value_loss = F.mse_loss(values, returns)\n",
            "Epochs: 62 Reward: 200.0:  63%|██████▎   | 63/100 [17:38<10:39, 17.30s/it]<ipython-input-56-d8869d897c2c>:203: UserWarning: Using a target size (torch.Size([89])) that is different to the input size (torch.Size([89, 1])). This will likely lead to incorrect results due to broadcasting. Please ensure they have the same size.\n",
            "  value_loss = F.mse_loss(values, returns)\n",
            "Epochs: 64 Reward: 200.0:  65%|██████▌   | 65/100 [18:14<10:16, 17.62s/it]<ipython-input-56-d8869d897c2c>:203: UserWarning: Using a target size (torch.Size([146])) that is different to the input size (torch.Size([146, 1])). This will likely lead to incorrect results due to broadcasting. Please ensure they have the same size.\n",
            "  value_loss = F.mse_loss(values, returns)\n",
            "Epochs: 65 Reward: 190.0:  66%|██████▌   | 66/100 [18:32<10:06, 17.85s/it]<ipython-input-56-d8869d897c2c>:203: UserWarning: Using a target size (torch.Size([106])) that is different to the input size (torch.Size([106, 1])). This will likely lead to incorrect results due to broadcasting. Please ensure they have the same size.\n",
            "  value_loss = F.mse_loss(values, returns)\n",
            "Epochs: 67 Reward: 200.0:  68%|██████▊   | 68/100 [19:08<09:33, 17.93s/it]<ipython-input-56-d8869d897c2c>:203: UserWarning: Using a target size (torch.Size([9])) that is different to the input size (torch.Size([9, 1])). This will likely lead to incorrect results due to broadcasting. Please ensure they have the same size.\n",
            "  value_loss = F.mse_loss(values, returns)\n",
            "Epochs: 70 Reward: 200.0:  71%|███████   | 71/100 [20:03<08:47, 18.19s/it]<ipython-input-56-d8869d897c2c>:203: UserWarning: Using a target size (torch.Size([69])) that is different to the input size (torch.Size([69, 1])). This will likely lead to incorrect results due to broadcasting. Please ensure they have the same size.\n",
            "  value_loss = F.mse_loss(values, returns)\n",
            "Epochs: 73 Reward: 185.0:  74%|███████▍  | 74/100 [20:58<07:54, 18.26s/it]<ipython-input-56-d8869d897c2c>:203: UserWarning: Using a target size (torch.Size([215])) that is different to the input size (torch.Size([215, 1])). This will likely lead to incorrect results due to broadcasting. Please ensure they have the same size.\n",
            "  value_loss = F.mse_loss(values, returns)\n",
            "Epochs: 74 Reward: 184.0:  75%|███████▌  | 75/100 [21:16<07:31, 18.05s/it]<ipython-input-56-d8869d897c2c>:203: UserWarning: Using a target size (torch.Size([167])) that is different to the input size (torch.Size([167, 1])). This will likely lead to incorrect results due to broadcasting. Please ensure they have the same size.\n",
            "  value_loss = F.mse_loss(values, returns)\n",
            "Epochs: 75 Reward: 155.0:  76%|███████▌  | 76/100 [21:34<07:10, 17.96s/it]<ipython-input-56-d8869d897c2c>:203: UserWarning: Using a target size (torch.Size([162])) that is different to the input size (torch.Size([162, 1])). This will likely lead to incorrect results due to broadcasting. Please ensure they have the same size.\n",
            "  value_loss = F.mse_loss(values, returns)\n",
            "Epochs: 76 Reward: 159.0:  77%|███████▋  | 77/100 [21:51<06:50, 17.86s/it]<ipython-input-56-d8869d897c2c>:203: UserWarning: Using a target size (torch.Size([33])) that is different to the input size (torch.Size([33, 1])). This will likely lead to incorrect results due to broadcasting. Please ensure they have the same size.\n",
            "  value_loss = F.mse_loss(values, returns)\n",
            "Epochs: 77 Reward: 189.0:  78%|███████▊  | 78/100 [22:09<06:33, 17.89s/it]<ipython-input-56-d8869d897c2c>:203: UserWarning: Using a target size (torch.Size([109])) that is different to the input size (torch.Size([109, 1])). This will likely lead to incorrect results due to broadcasting. Please ensure they have the same size.\n",
            "  value_loss = F.mse_loss(values, returns)\n",
            "Epochs: 78 Reward: 169.0:  79%|███████▉  | 79/100 [22:27<06:17, 18.00s/it]<ipython-input-56-d8869d897c2c>:203: UserWarning: Using a target size (torch.Size([4])) that is different to the input size (torch.Size([4, 1])). This will likely lead to incorrect results due to broadcasting. Please ensure they have the same size.\n",
            "  value_loss = F.mse_loss(values, returns)\n",
            "Epochs: 79 Reward: 200.0:  80%|████████  | 80/100 [22:46<06:01, 18.07s/it]<ipython-input-56-d8869d897c2c>:203: UserWarning: Using a target size (torch.Size([186])) that is different to the input size (torch.Size([186, 1])). This will likely lead to incorrect results due to broadcasting. Please ensure they have the same size.\n",
            "  value_loss = F.mse_loss(values, returns)\n",
            "Epochs: 80 Reward: 159.0:  81%|████████  | 81/100 [23:03<05:37, 17.74s/it]<ipython-input-56-d8869d897c2c>:203: UserWarning: Using a target size (torch.Size([141])) that is different to the input size (torch.Size([141, 1])). This will likely lead to incorrect results due to broadcasting. Please ensure they have the same size.\n",
            "  value_loss = F.mse_loss(values, returns)\n",
            "Epochs: 81 Reward: 200.0:  82%|████████▏ | 82/100 [23:21<05:20, 17.83s/it]<ipython-input-56-d8869d897c2c>:203: UserWarning: Using a target size (torch.Size([174])) that is different to the input size (torch.Size([174, 1])). This will likely lead to incorrect results due to broadcasting. Please ensure they have the same size.\n",
            "  value_loss = F.mse_loss(values, returns)\n",
            "Epochs: 85 Reward: 200.0:  86%|████████▌ | 86/100 [24:32<04:07, 17.67s/it]<ipython-input-56-d8869d897c2c>:203: UserWarning: Using a target size (torch.Size([171])) that is different to the input size (torch.Size([171, 1])). This will likely lead to incorrect results due to broadcasting. Please ensure they have the same size.\n",
            "  value_loss = F.mse_loss(values, returns)\n",
            "Epochs: 86 Reward: 165.0:  87%|████████▋ | 87/100 [24:50<03:51, 17.79s/it]<ipython-input-56-d8869d897c2c>:203: UserWarning: Using a target size (torch.Size([20])) that is different to the input size (torch.Size([20, 1])). This will likely lead to incorrect results due to broadcasting. Please ensure they have the same size.\n",
            "  value_loss = F.mse_loss(values, returns)\n",
            "Epochs: 87 Reward: 185.0:  88%|████████▊ | 88/100 [25:07<03:33, 17.76s/it]<ipython-input-56-d8869d897c2c>:203: UserWarning: Using a target size (torch.Size([1])) that is different to the input size (torch.Size([1, 1])). This will likely lead to incorrect results due to broadcasting. Please ensure they have the same size.\n",
            "  value_loss = F.mse_loss(values, returns)\n",
            "Epochs: 88 Reward: 200.0:  89%|████████▉ | 89/100 [25:26<03:20, 18.19s/it]<ipython-input-56-d8869d897c2c>:203: UserWarning: Using a target size (torch.Size([68])) that is different to the input size (torch.Size([68, 1])). This will likely lead to incorrect results due to broadcasting. Please ensure they have the same size.\n",
            "  value_loss = F.mse_loss(values, returns)\n",
            "Epochs: 89 Reward: 200.0:  90%|█████████ | 90/100 [25:45<03:01, 18.16s/it]<ipython-input-56-d8869d897c2c>:203: UserWarning: Using a target size (torch.Size([99])) that is different to the input size (torch.Size([99, 1])). This will likely lead to incorrect results due to broadcasting. Please ensure they have the same size.\n",
            "  value_loss = F.mse_loss(values, returns)\n",
            "Epochs: 90 Reward: 167.0:  91%|█████████ | 91/100 [26:02<02:42, 18.02s/it]<ipython-input-56-d8869d897c2c>:203: UserWarning: Using a target size (torch.Size([7])) that is different to the input size (torch.Size([7, 1])). This will likely lead to incorrect results due to broadcasting. Please ensure they have the same size.\n",
            "  value_loss = F.mse_loss(values, returns)\n",
            "Epochs: 91 Reward: 156.0:  92%|█████████▏| 92/100 [26:20<02:22, 17.85s/it]<ipython-input-56-d8869d897c2c>:203: UserWarning: Using a target size (torch.Size([91])) that is different to the input size (torch.Size([91, 1])). This will likely lead to incorrect results due to broadcasting. Please ensure they have the same size.\n",
            "  value_loss = F.mse_loss(values, returns)\n",
            "Epochs: 92 Reward: 200.0:  93%|█████████▎| 93/100 [26:38<02:06, 18.13s/it]<ipython-input-56-d8869d897c2c>:203: UserWarning: Using a target size (torch.Size([209])) that is different to the input size (torch.Size([209, 1])). This will likely lead to incorrect results due to broadcasting. Please ensure they have the same size.\n",
            "  value_loss = F.mse_loss(values, returns)\n",
            "Epochs: 94 Reward: 156.0:  95%|█████████▌| 95/100 [27:14<01:29, 17.87s/it]<ipython-input-56-d8869d897c2c>:203: UserWarning: Using a target size (torch.Size([71])) that is different to the input size (torch.Size([71, 1])). This will likely lead to incorrect results due to broadcasting. Please ensure they have the same size.\n",
            "  value_loss = F.mse_loss(values, returns)\n",
            "Epochs: 95 Reward: 200.0:  96%|█████████▌| 96/100 [27:31<01:10, 17.62s/it]<ipython-input-56-d8869d897c2c>:203: UserWarning: Using a target size (torch.Size([25])) that is different to the input size (torch.Size([25, 1])). This will likely lead to incorrect results due to broadcasting. Please ensure they have the same size.\n",
            "  value_loss = F.mse_loss(values, returns)\n",
            "Epochs: 97 Reward: 155.0:  98%|█████████▊| 98/100 [28:05<00:34, 17.33s/it]<ipython-input-56-d8869d897c2c>:203: UserWarning: Using a target size (torch.Size([96])) that is different to the input size (torch.Size([96, 1])). This will likely lead to incorrect results due to broadcasting. Please ensure they have the same size.\n",
            "  value_loss = F.mse_loss(values, returns)\n"
          ]
        },
        {
          "output_type": "display_data",
          "data": {
            "text/plain": [
              "<IPython.core.display.HTML object>"
            ],
            "text/html": [
              "<video alt=\"test\" autoplay\n",
              "                loop controls style=\"height: 400px;\">\n",
              "                <source src=\"data:video/mp4;base64,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\" type=\"video/mp4\" />\n",
              "             </video>"
            ]
          },
          "metadata": {}
        }
      ],
      "source": [
        "def ppo_main():\n",
        "  # Hyper parameters\n",
        "  lr = 1e-3\n",
        "  epochs = 100\n",
        "  env_samples = 100\n",
        "  gamma = 0.9\n",
        "  batch_size = 256\n",
        "  epsilon = 0.2\n",
        "  policy_epochs = 5\n",
        "\n",
        "  # Init environment\n",
        "  state_size = 4\n",
        "  action_size = 2\n",
        "  env = gym.make('CartPole-v1', render_mode=\"rgb_array\")\n",
        "\n",
        "  # Init networks\n",
        "  policy_network = PolicyNetwork(state_size, action_size).cuda()\n",
        "  value_network = ValueNetwork(state_size).cuda()\n",
        "\n",
        "  # Init optimizer\n",
        "  optim = torch.optim.Adam(chain(policy_network.parameters(), value_network.parameters()), lr=lr)\n",
        "\n",
        "  # Start main loop\n",
        "  results_ppo = []\n",
        "  loop = tqdm(total=epochs, position=0, leave=False)\n",
        "  for epoch in range(epochs):\n",
        "    last_epoch = (epoch+1 == epochs)\n",
        "    # Record only last epoch\n",
        "    if last_epoch:\n",
        "      env = wrap_env(env)\n",
        "\n",
        "    memory = []  # Reset memory every epoch\n",
        "    rewards = []  # Calculate average episodic reward per epoch\n",
        "\n",
        "    # Begin experience loop\n",
        "    for episode in range(env_samples):\n",
        "\n",
        "      # Reset environment\n",
        "      state, _ = env.reset()\n",
        "      done = False\n",
        "      rollout = []\n",
        "      cum_reward = 0  # Track cumulative reward\n",
        "\n",
        "      # Begin episode\n",
        "      while not done and cum_reward < 200:  # End after 200 steps\n",
        "        # Get action\n",
        "        action, action_dist = get_action_ppo(policy_network, state)\n",
        "\n",
        "        # Take step\n",
        "        next_state, reward, terminated, truncated, _ = env.step(action)\n",
        "        done = terminated or truncated\n",
        "        # env.render()\n",
        "\n",
        "        # Store step\n",
        "        rollout.append((state, action, action_dist, reward))\n",
        "\n",
        "        cum_reward += reward\n",
        "        state = next_state  # Set current state\n",
        "\n",
        "      # Calculate returns and add episode to memory\n",
        "      memory = calculate_return(memory, rollout, gamma)\n",
        "\n",
        "      rewards.append(cum_reward)\n",
        "      env.close()\n",
        "    # Train\n",
        "    dataset = RLDataset(memory)\n",
        "    loader = DataLoader(dataset, batch_size=batch_size, shuffle=True)\n",
        "    learn_ppo(optim, policy_network, value_network, loader, epsilon, policy_epochs)\n",
        "\n",
        "    # Print results\n",
        "    results_ppo.extend(rewards)  # Store rewards for this epoch\n",
        "    loop.update(1)\n",
        "    loop.set_description(\"Epochs: {} Reward: {}\".format(epoch, results_ppo[-1]))\n",
        "\n",
        "  return results_ppo\n",
        "\n",
        "results_ppo = ppo_main()\n",
        "show_video()"
      ]
    },
    {
      "cell_type": "code",
      "execution_count": null,
      "metadata": {
        "id": "pLXetCMpC1DE",
        "colab": {
          "base_uri": "https://localhost:8080/",
          "height": 430
        },
        "outputId": "60689d03-21e5-4c56-80b7-750b4813fd29"
      },
      "outputs": [
        {
          "output_type": "display_data",
          "data": {
            "text/plain": [
              "<Figure size 640x480 with 1 Axes>"
            ],
            "image/png": "[encoded data removed]"
          },
          "metadata": {}
        }
      ],
      "source": [
        "plt.plot(results_ppo)\n",
        "plt.show()"
      ]
    }
  ],
  "metadata": {
    "accelerator": "GPU",
    "colab": {
      "provenance": []
    },
    "kernelspec": {
      "display_name": "Python 3 (ipykernel)",
      "language": "python",
      "name": "python3"
    },
    "language_info": {
      "codemirror_mode": {
        "name": "ipython",
        "version": 3
      },
      "file_extension": ".py",
      "mimetype": "text/x-python",
      "name": "python",
      "nbconvert_exporter": "python",
      "pygments_lexer": "ipython3",
      "version": "3.10.14"
    }
  },
  "nbformat": 4,
  "nbformat_minor": 0
}