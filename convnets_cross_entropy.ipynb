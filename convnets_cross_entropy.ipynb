{
  "cells": [
    {
      "cell_type": "markdown",
      "metadata": {
        "id": "AH8vX9AlCwxT"
      },
      "source": [
        "[![Open In Colab](https://colab.research.google.com/assets/colab-badge.svg)](https://github.com/porterjenkins/byu-cs474/blob/master/lab3_cross_entropy_convnets.ipynb)"
      ]
    },
    {
      "cell_type": "markdown",
      "metadata": {
        "id": "view-in-github"
      },
      "source": [
        "# Deep Learning Part 3: Datasets, Data Loading, Cross Entropy, and Convolutional Networks\n",
        "\n",
        "## Grading Standards:\n",
        "*  10%: Dataset/MNIST section\n",
        "*  10%: Correct implementation and use of cross entropy loss\n",
        "*  20%: Correct training/validation functions\n",
        "*  40%: Successful training and validation with MLP and convolution networks\n",
        "*  12%: Convolutional layer quiz\n",
        "*   8%: Comparison between MLP and convolution networks\n",
        "___\n"
      ]
    },
    {
      "cell_type": "code",
      "execution_count": 1,
      "metadata": {
        "id": "wQOefmcZVgTl"
      },
      "outputs": [],
      "source": [
        "import numpy as np\n",
        "import matplotlib.pyplot as plt\n",
        "\n",
        "import torch\n",
        "import torch.nn as nn\n",
        "import torch.nn.functional as F"
      ]
    },
    {
      "cell_type": "markdown",
      "metadata": {
        "id": "IUHlLRJ0Q9Fz"
      },
      "source": [
        "Set your global variable `device`, using the `torch.device()` function. In order to use cuda remember to request a GPU from Runtime > Change Runtime.\n",
        "\n",
        "***Important Note**: If you spend too much time or memory on the GPU in Google Colab then you will be timed out. This may not be a big deal with this lab, but it can become a big deal in later labs. It is recommended to set your `device` and Runtime to CPU first and once everything in the lab is working properly to set it to the GPU.*"
      ]
    },
    {
      "cell_type": "code",
      "execution_count": 2,
      "metadata": {
        "id": "kFAeNl0mQ9F0"
      },
      "outputs": [],
      "source": [
        "device = torch.device(\"cuda\") if torch.cuda.is_available() else torch.device(\"cpu\")"
      ]
    },
    {
      "cell_type": "markdown",
      "metadata": {
        "id": "h8plxzBbQ9F1"
      },
      "source": [
        "---\n",
        "\n",
        "# Datasets and Data Loading\n",
        "\n"
      ]
    },
    {
      "cell_type": "code",
      "execution_count": 3,
      "metadata": {
        "id": "6A1ZwnczQ9F1"
      },
      "outputs": [],
      "source": [
        "from torch.utils.data import Dataset, DataLoader"
      ]
    },
    {
      "cell_type": "markdown",
      "metadata": {
        "id": "sP7rpMjiQ9F2"
      },
      "source": [
        "We are going to make a PyTorch `Dataset`.\n",
        "There are three parts to creating a `Dataset`:\n",
        "1. `__init__()`: This is where you get all relevant data for your dataset.\n",
        "2. `__len__()`: You return how large your dataset is.\n",
        "3. `__getitem__()`: You return an item from your dataset given an index.\n",
        "\n",
        "Implement the TODOs below."
      ]
    },
    {
      "cell_type": "code",
      "execution_count": 4,
      "metadata": {
        "id": "x3SGWrkbQ9F3"
      },
      "outputs": [],
      "source": [
        "class SineDataset(Dataset):\n",
        "    def __init__(self):\n",
        "        # TODO: The code is same from lab 2, so you can uncomment the code below.\n",
        "        self.x = torch.rand((100,1))*8 - 4\n",
        "        self.y = torch.sin(self.x) + torch.randn_like(self.x)*.1 # the second part of the sum adds noise to the function\n",
        "\n",
        "    def __len__(self):\n",
        "        # TODO: Return the len of your dataset.\n",
        "        return len(self.x)\n",
        "\n",
        "    def __getitem__(self, i):\n",
        "        # TODO: i will be an index so return x_i and y_i\n",
        "        return self.x[i], self.y[i]"
      ]
    },
    {
      "cell_type": "markdown",
      "metadata": {
        "id": "IQtRsLxWQ9F3"
      },
      "source": [
        "We will now create a `SineDataset` and print out the length of dataset, i.e. `len(dataset)`, and the item in your dataset at index 0, i.e. `dataset[0]`.\n",
        "\n",
        "*Note: `__len__()` and `__getitem__()` are private methods and should not be called directly.*"
      ]
    },
    {
      "cell_type": "code",
      "execution_count": 5,
      "metadata": {
        "id": "M1HD_XafQ9F4",
        "colab": {
          "base_uri": "https://localhost:8080/"
        },
        "outputId": "2f78ee2e-3461-49c7-d87f-6ce42bdb444d"
      },
      "outputs": [
        {
          "output_type": "stream",
          "name": "stdout",
          "text": [
            "Length of dataset: 100\n",
            "Item at index 0: (tensor([-0.7707]), tensor([-0.8168]))\n"
          ]
        }
      ],
      "source": [
        "sineDataset = SineDataset()\n",
        "print(f\"Length of dataset: {len(sineDataset)}\")\n",
        "print(f\"Item at index 0: {sineDataset[0]}\")"
      ]
    },
    {
      "cell_type": "markdown",
      "metadata": {
        "id": "9Ow7q2UEQ9F4"
      },
      "source": [
        "A `DataLoader` uses the `__len__` and `__getitem__` of a `Dataset` to sample indices in `[0, ..., len(dataset)-1]` and collect a batch of items from the `Dataset`.\n",
        "The `DataLoader` will then try to convert the sampled entries into tensors (if they are not already) and concatenate them together.\n",
        "Create a `DataLoader` object below; pass in your dataset and `batch_size=32` as arguments."
      ]
    },
    {
      "cell_type": "code",
      "execution_count": 6,
      "metadata": {
        "id": "8G9BkZUgQ9F4"
      },
      "outputs": [],
      "source": [
        "dataloader = DataLoader(sineDataset, batch_size=32)"
      ]
    },
    {
      "cell_type": "markdown",
      "metadata": {
        "id": "KHE3O4wwQ9F5"
      },
      "source": [
        "Iterate through your dataloader with a for loop. Because `SineDataset.__getitem__()` returns two items, the for loop will return a tuple.\n",
        "Either unpack the entries in your tuple in the for loop:\n",
        "```python\n",
        "for x, y in dataloader\n",
        "```\n",
        "or after the loop:\n",
        "```python\n",
        "for batch in dataloader:\n",
        "    x, y = batch\n",
        "```\n",
        "\n",
        "Print out the shapes of `x` and `y` for each batch in the dataloader."
      ]
    },
    {
      "cell_type": "code",
      "execution_count": 7,
      "metadata": {
        "id": "zxJ-K52QQ9F5",
        "colab": {
          "base_uri": "https://localhost:8080/"
        },
        "outputId": "e2f5baca-9e81-4b13-ea74-5ff1960bbf9b"
      },
      "outputs": [
        {
          "output_type": "stream",
          "name": "stdout",
          "text": [
            "x shape: torch.Size([32, 1])\n",
            "y shape: torch.Size([32, 1])\n",
            "x shape: torch.Size([32, 1])\n",
            "y shape: torch.Size([32, 1])\n",
            "x shape: torch.Size([32, 1])\n",
            "y shape: torch.Size([32, 1])\n",
            "x shape: torch.Size([4, 1])\n",
            "y shape: torch.Size([4, 1])\n"
          ]
        }
      ],
      "source": [
        "for batch in dataloader:\n",
        "    x, y = batch\n",
        "    print(f\"x shape: {x.shape}\")\n",
        "    print(f\"y shape: {y.shape}\")"
      ]
    },
    {
      "cell_type": "markdown",
      "metadata": {
        "id": "T9XGi82cQ9F5"
      },
      "source": [
        "You will notice that the shapes are `(B, Z_in)`, where `B` is batch size and `Z_in` is our input feature size, which is exactly what we want.\n",
        "Also note that the last batch has a batch size of 4; this is because the `DataLoader` samples **without replacement** and these are the last items in our `Dataset` that have not been sampled.\n",
        "\n",
        "Let's now create our real dataset."
      ]
    },
    {
      "cell_type": "markdown",
      "metadata": {
        "id": "ORW8H-QwQ9F6"
      },
      "source": [
        "---\n",
        "\n",
        "# MNIST\n",
        "\n",
        "We are now going to look at the MNIST dataset, which is a dataset of handwritten numbers.\n",
        "Our objective will be to create a neural network that can predict the number given the image.\n",
        "\n",
        "First import `torchvision` below so we can retrieve the MNIST dataset."
      ]
    },
    {
      "cell_type": "code",
      "execution_count": 8,
      "metadata": {
        "id": "ybgv1p4PQ9F6"
      },
      "outputs": [],
      "source": [
        "import torchvision"
      ]
    },
    {
      "cell_type": "markdown",
      "metadata": {
        "id": "QroZnsvvQ9F7"
      },
      "source": [
        "You can use `torchvision.datasets.MNIST()` to download the MNIST dataset (which inherits the `Dataset` class).\n",
        "For arguments, specify `root=\"/tmp/\"` to denote the location, `train=True` or `train=False` to get the training or test dataset, `download=True` to specify you want to download the dataset, and `transform=torchvision.transforms.ToTensor()` to convert the MNIST images from PIL images to PyTorch tensors.\n",
        "Create both a `train_dataset` and `val_dataset`.\n",
        "\n",
        "*Note: It is good practice to use a train, val, and test dataset, especially in the real world, but in this class we will mainly focus on train and val datasets to simplify things.*"
      ]
    },
    {
      "cell_type": "code",
      "execution_count": 9,
      "metadata": {
        "id": "BeJcijXkQ9F7"
      },
      "outputs": [],
      "source": [
        "train_dataset = torchvision.datasets.MNIST(root=\"/tmp/\", train=True, download=True, transform=torchvision.transforms.ToTensor())\n",
        "val_dataset = torchvision.datasets.MNIST(root=\"/tmp/\", train=False, download=True, transform=torchvision.transforms.ToTensor())"
      ]
    },
    {
      "cell_type": "markdown",
      "metadata": {
        "id": "ujysG9TCQ9F7"
      },
      "source": [
        "Print out the lengths of `train_dataset` and `val_dataset`."
      ]
    },
    {
      "cell_type": "code",
      "execution_count": 10,
      "metadata": {
        "id": "61Px30_LQ9F8",
        "colab": {
          "base_uri": "https://localhost:8080/"
        },
        "outputId": "551ee092-8b13-434f-efbe-b3ce35e854f0"
      },
      "outputs": [
        {
          "output_type": "stream",
          "name": "stdout",
          "text": [
            "Length of train_dataset: 60000\n",
            "Length of val_dataset: 10000\n"
          ]
        }
      ],
      "source": [
        "print(f\"Length of train_dataset: {len(train_dataset)}\")\n",
        "print(f\"Length of val_dataset: {len(val_dataset)}\")"
      ]
    },
    {
      "cell_type": "markdown",
      "metadata": {
        "id": "4fViNzhuQ9F8"
      },
      "source": [
        "Grab element 0 from the `train_dataset`. As a heads up, like our `SineDataset`, `MNIST` returns an image `x` and a class/target `y`."
      ]
    },
    {
      "cell_type": "code",
      "execution_count": 11,
      "metadata": {
        "id": "3QUod3d5Q9F8",
        "colab": {
          "base_uri": "https://localhost:8080/"
        },
        "outputId": "57f0adc5-4dab-467f-9e99-ff398c85ea28"
      },
      "outputs": [
        {
          "output_type": "stream",
          "name": "stdout",
          "text": [
            "x: tensor([[[0.0000, 0.0000, 0.0000, 0.0000, 0.0000, 0.0000, 0.0000, 0.0000,\n",
            "          0.0000, 0.0000, 0.0000, 0.0000, 0.0000, 0.0000, 0.0000, 0.0000,\n",
            "          0.0000, 0.0000, 0.0000, 0.0000, 0.0000, 0.0000, 0.0000, 0.0000,\n",
            "          0.0000, 0.0000, 0.0000, 0.0000],\n",
            "         [0.0000, 0.0000, 0.0000, 0.0000, 0.0000, 0.0000, 0.0000, 0.0000,\n",
            "          0.0000, 0.0000, 0.0000, 0.0000, 0.0000, 0.0000, 0.0000, 0.0000,\n",
            "          0.0000, 0.0000, 0.0000, 0.0000, 0.0000, 0.0000, 0.0000, 0.0000,\n",
            "          0.0000, 0.0000, 0.0000, 0.0000],\n",
            "         [0.0000, 0.0000, 0.0000, 0.0000, 0.0000, 0.0000, 0.0000, 0.0000,\n",
            "          0.0000, 0.0000, 0.0000, 0.0000, 0.0000, 0.0000, 0.0000, 0.0000,\n",
            "          0.0000, 0.0000, 0.0000, 0.0000, 0.0000, 0.0000, 0.0000, 0.0000,\n",
            "          0.0000, 0.0000, 0.0000, 0.0000],\n",
            "         [0.0000, 0.0000, 0.0000, 0.0000, 0.0000, 0.0000, 0.0000, 0.0000,\n",
            "          0.0000, 0.0000, 0.0000, 0.0000, 0.0000, 0.0000, 0.0000, 0.0000,\n",
            "          0.0000, 0.0000, 0.0000, 0.0000, 0.0000, 0.0000, 0.0000, 0.0000,\n",
            "          0.0000, 0.0000, 0.0000, 0.0000],\n",
            "         [0.0000, 0.0000, 0.0000, 0.0000, 0.0000, 0.0000, 0.0000, 0.0000,\n",
            "          0.0000, 0.0000, 0.0000, 0.0000, 0.0000, 0.0000, 0.0000, 0.0000,\n",
            "          0.0000, 0.0000, 0.0000, 0.0000, 0.0000, 0.0000, 0.0000, 0.0000,\n",
            "          0.0000, 0.0000, 0.0000, 0.0000],\n",
            "         [0.0000, 0.0000, 0.0000, 0.0000, 0.0000, 0.0000, 0.0000, 0.0000,\n",
            "          0.0000, 0.0000, 0.0000, 0.0000, 0.0118, 0.0706, 0.0706, 0.0706,\n",
            "          0.4941, 0.5333, 0.6863, 0.1020, 0.6510, 1.0000, 0.9686, 0.4980,\n",
            "          0.0000, 0.0000, 0.0000, 0.0000],\n",
            "         [0.0000, 0.0000, 0.0000, 0.0000, 0.0000, 0.0000, 0.0000, 0.0000,\n",
            "          0.1176, 0.1412, 0.3686, 0.6039, 0.6667, 0.9922, 0.9922, 0.9922,\n",
            "          0.9922, 0.9922, 0.8824, 0.6745, 0.9922, 0.9490, 0.7647, 0.2510,\n",
            "          0.0000, 0.0000, 0.0000, 0.0000],\n",
            "         [0.0000, 0.0000, 0.0000, 0.0000, 0.0000, 0.0000, 0.0000, 0.1922,\n",
            "          0.9333, 0.9922, 0.9922, 0.9922, 0.9922, 0.9922, 0.9922, 0.9922,\n",
            "          0.9922, 0.9843, 0.3647, 0.3216, 0.3216, 0.2196, 0.1529, 0.0000,\n",
            "          0.0000, 0.0000, 0.0000, 0.0000],\n",
            "         [0.0000, 0.0000, 0.0000, 0.0000, 0.0000, 0.0000, 0.0000, 0.0706,\n",
            "          0.8588, 0.9922, 0.9922, 0.9922, 0.9922, 0.9922, 0.7765, 0.7137,\n",
            "          0.9686, 0.9451, 0.0000, 0.0000, 0.0000, 0.0000, 0.0000, 0.0000,\n",
            "          0.0000, 0.0000, 0.0000, 0.0000],\n",
            "         [0.0000, 0.0000, 0.0000, 0.0000, 0.0000, 0.0000, 0.0000, 0.0000,\n",
            "          0.3137, 0.6118, 0.4196, 0.9922, 0.9922, 0.8039, 0.0431, 0.0000,\n",
            "          0.1686, 0.6039, 0.0000, 0.0000, 0.0000, 0.0000, 0.0000, 0.0000,\n",
            "          0.0000, 0.0000, 0.0000, 0.0000],\n",
            "         [0.0000, 0.0000, 0.0000, 0.0000, 0.0000, 0.0000, 0.0000, 0.0000,\n",
            "          0.0000, 0.0549, 0.0039, 0.6039, 0.9922, 0.3529, 0.0000, 0.0000,\n",
            "          0.0000, 0.0000, 0.0000, 0.0000, 0.0000, 0.0000, 0.0000, 0.0000,\n",
            "          0.0000, 0.0000, 0.0000, 0.0000],\n",
            "         [0.0000, 0.0000, 0.0000, 0.0000, 0.0000, 0.0000, 0.0000, 0.0000,\n",
            "          0.0000, 0.0000, 0.0000, 0.5451, 0.9922, 0.7451, 0.0078, 0.0000,\n",
            "          0.0000, 0.0000, 0.0000, 0.0000, 0.0000, 0.0000, 0.0000, 0.0000,\n",
            "          0.0000, 0.0000, 0.0000, 0.0000],\n",
            "         [0.0000, 0.0000, 0.0000, 0.0000, 0.0000, 0.0000, 0.0000, 0.0000,\n",
            "          0.0000, 0.0000, 0.0000, 0.0431, 0.7451, 0.9922, 0.2745, 0.0000,\n",
            "          0.0000, 0.0000, 0.0000, 0.0000, 0.0000, 0.0000, 0.0000, 0.0000,\n",
            "          0.0000, 0.0000, 0.0000, 0.0000],\n",
            "         [0.0000, 0.0000, 0.0000, 0.0000, 0.0000, 0.0000, 0.0000, 0.0000,\n",
            "          0.0000, 0.0000, 0.0000, 0.0000, 0.1373, 0.9451, 0.8824, 0.6275,\n",
            "          0.4235, 0.0039, 0.0000, 0.0000, 0.0000, 0.0000, 0.0000, 0.0000,\n",
            "          0.0000, 0.0000, 0.0000, 0.0000],\n",
            "         [0.0000, 0.0000, 0.0000, 0.0000, 0.0000, 0.0000, 0.0000, 0.0000,\n",
            "          0.0000, 0.0000, 0.0000, 0.0000, 0.0000, 0.3176, 0.9412, 0.9922,\n",
            "          0.9922, 0.4667, 0.0980, 0.0000, 0.0000, 0.0000, 0.0000, 0.0000,\n",
            "          0.0000, 0.0000, 0.0000, 0.0000],\n",
            "         [0.0000, 0.0000, 0.0000, 0.0000, 0.0000, 0.0000, 0.0000, 0.0000,\n",
            "          0.0000, 0.0000, 0.0000, 0.0000, 0.0000, 0.0000, 0.1765, 0.7294,\n",
            "          0.9922, 0.9922, 0.5882, 0.1059, 0.0000, 0.0000, 0.0000, 0.0000,\n",
            "          0.0000, 0.0000, 0.0000, 0.0000],\n",
            "         [0.0000, 0.0000, 0.0000, 0.0000, 0.0000, 0.0000, 0.0000, 0.0000,\n",
            "          0.0000, 0.0000, 0.0000, 0.0000, 0.0000, 0.0000, 0.0000, 0.0627,\n",
            "          0.3647, 0.9882, 0.9922, 0.7333, 0.0000, 0.0000, 0.0000, 0.0000,\n",
            "          0.0000, 0.0000, 0.0000, 0.0000],\n",
            "         [0.0000, 0.0000, 0.0000, 0.0000, 0.0000, 0.0000, 0.0000, 0.0000,\n",
            "          0.0000, 0.0000, 0.0000, 0.0000, 0.0000, 0.0000, 0.0000, 0.0000,\n",
            "          0.0000, 0.9765, 0.9922, 0.9765, 0.2510, 0.0000, 0.0000, 0.0000,\n",
            "          0.0000, 0.0000, 0.0000, 0.0000],\n",
            "         [0.0000, 0.0000, 0.0000, 0.0000, 0.0000, 0.0000, 0.0000, 0.0000,\n",
            "          0.0000, 0.0000, 0.0000, 0.0000, 0.0000, 0.0000, 0.1804, 0.5098,\n",
            "          0.7176, 0.9922, 0.9922, 0.8118, 0.0078, 0.0000, 0.0000, 0.0000,\n",
            "          0.0000, 0.0000, 0.0000, 0.0000],\n",
            "         [0.0000, 0.0000, 0.0000, 0.0000, 0.0000, 0.0000, 0.0000, 0.0000,\n",
            "          0.0000, 0.0000, 0.0000, 0.0000, 0.1529, 0.5804, 0.8980, 0.9922,\n",
            "          0.9922, 0.9922, 0.9804, 0.7137, 0.0000, 0.0000, 0.0000, 0.0000,\n",
            "          0.0000, 0.0000, 0.0000, 0.0000],\n",
            "         [0.0000, 0.0000, 0.0000, 0.0000, 0.0000, 0.0000, 0.0000, 0.0000,\n",
            "          0.0000, 0.0000, 0.0941, 0.4471, 0.8667, 0.9922, 0.9922, 0.9922,\n",
            "          0.9922, 0.7882, 0.3059, 0.0000, 0.0000, 0.0000, 0.0000, 0.0000,\n",
            "          0.0000, 0.0000, 0.0000, 0.0000],\n",
            "         [0.0000, 0.0000, 0.0000, 0.0000, 0.0000, 0.0000, 0.0000, 0.0000,\n",
            "          0.0902, 0.2588, 0.8353, 0.9922, 0.9922, 0.9922, 0.9922, 0.7765,\n",
            "          0.3176, 0.0078, 0.0000, 0.0000, 0.0000, 0.0000, 0.0000, 0.0000,\n",
            "          0.0000, 0.0000, 0.0000, 0.0000],\n",
            "         [0.0000, 0.0000, 0.0000, 0.0000, 0.0000, 0.0000, 0.0706, 0.6706,\n",
            "          0.8588, 0.9922, 0.9922, 0.9922, 0.9922, 0.7647, 0.3137, 0.0353,\n",
            "          0.0000, 0.0000, 0.0000, 0.0000, 0.0000, 0.0000, 0.0000, 0.0000,\n",
            "          0.0000, 0.0000, 0.0000, 0.0000],\n",
            "         [0.0000, 0.0000, 0.0000, 0.0000, 0.2157, 0.6745, 0.8863, 0.9922,\n",
            "          0.9922, 0.9922, 0.9922, 0.9569, 0.5216, 0.0431, 0.0000, 0.0000,\n",
            "          0.0000, 0.0000, 0.0000, 0.0000, 0.0000, 0.0000, 0.0000, 0.0000,\n",
            "          0.0000, 0.0000, 0.0000, 0.0000],\n",
            "         [0.0000, 0.0000, 0.0000, 0.0000, 0.5333, 0.9922, 0.9922, 0.9922,\n",
            "          0.8314, 0.5294, 0.5176, 0.0627, 0.0000, 0.0000, 0.0000, 0.0000,\n",
            "          0.0000, 0.0000, 0.0000, 0.0000, 0.0000, 0.0000, 0.0000, 0.0000,\n",
            "          0.0000, 0.0000, 0.0000, 0.0000],\n",
            "         [0.0000, 0.0000, 0.0000, 0.0000, 0.0000, 0.0000, 0.0000, 0.0000,\n",
            "          0.0000, 0.0000, 0.0000, 0.0000, 0.0000, 0.0000, 0.0000, 0.0000,\n",
            "          0.0000, 0.0000, 0.0000, 0.0000, 0.0000, 0.0000, 0.0000, 0.0000,\n",
            "          0.0000, 0.0000, 0.0000, 0.0000],\n",
            "         [0.0000, 0.0000, 0.0000, 0.0000, 0.0000, 0.0000, 0.0000, 0.0000,\n",
            "          0.0000, 0.0000, 0.0000, 0.0000, 0.0000, 0.0000, 0.0000, 0.0000,\n",
            "          0.0000, 0.0000, 0.0000, 0.0000, 0.0000, 0.0000, 0.0000, 0.0000,\n",
            "          0.0000, 0.0000, 0.0000, 0.0000],\n",
            "         [0.0000, 0.0000, 0.0000, 0.0000, 0.0000, 0.0000, 0.0000, 0.0000,\n",
            "          0.0000, 0.0000, 0.0000, 0.0000, 0.0000, 0.0000, 0.0000, 0.0000,\n",
            "          0.0000, 0.0000, 0.0000, 0.0000, 0.0000, 0.0000, 0.0000, 0.0000,\n",
            "          0.0000, 0.0000, 0.0000, 0.0000]]])\n",
            "y: 5\n"
          ]
        }
      ],
      "source": [
        "x, y = train_dataset[0]\n",
        "\n",
        "print(f\"x: {x}\")\n",
        "print(f\"y: {y}\")"
      ]
    },
    {
      "cell_type": "markdown",
      "metadata": {
        "id": "JEJ45xaVQ9F8"
      },
      "source": [
        "Use the `type()` function to see what type of object `x` and `y` are."
      ]
    },
    {
      "cell_type": "code",
      "execution_count": 12,
      "metadata": {
        "id": "BH7jijNxQ9F8",
        "colab": {
          "base_uri": "https://localhost:8080/"
        },
        "outputId": "a8a85dda-1fed-4434-8d5c-71fde03de349"
      },
      "outputs": [
        {
          "output_type": "stream",
          "name": "stdout",
          "text": [
            "x type: <class 'torch.Tensor'>\n",
            "y type: <class 'int'>\n"
          ]
        }
      ],
      "source": [
        "print(f\"x type: {type(x)}\")\n",
        "print(f\"y type: {type(y)}\")"
      ]
    },
    {
      "cell_type": "markdown",
      "metadata": {
        "id": "s8xFEKjZQ9F9"
      },
      "source": [
        "Since x is a tensor, print out its `.dtype`, `.shape`"
      ]
    },
    {
      "cell_type": "code",
      "execution_count": 13,
      "metadata": {
        "id": "nspQc1uSQ9F9",
        "colab": {
          "base_uri": "https://localhost:8080/"
        },
        "outputId": "5e892a60-3cb5-4611-b669-befefb069ab7"
      },
      "outputs": [
        {
          "output_type": "stream",
          "name": "stdout",
          "text": [
            "torch.float32\n",
            "torch.Size([1, 28, 28])\n"
          ]
        }
      ],
      "source": [
        "print(x.dtype)\n",
        "print(x.shape)"
      ]
    },
    {
      "cell_type": "markdown",
      "metadata": {
        "id": "XV-K1HjMQ9F9"
      },
      "source": [
        "The shape of a tensor image is `(C, H, W)`, where `C` is channels, `H` is height, and `W` is width.\n",
        "In our case `x` has 1 channel and it is a 28x28 image.\n",
        "Because there is 1 channel, it is likely that the image is grayscale (which it is).\n",
        "\n",
        "Now visualize the image and display its class.\n",
        "Use the `plt.imshow()` function to visualize `x`; add the argument `cmap=\"gray\"` to denote the image is grayscale.\n",
        "Use the `plt.title()` function to set the title of the `plt` image to the class `y`.\n",
        "\n",
        "*Note: `plt` expects grayscale images to only have to dimension, HxW, so `.squeeze()` the 0th dimension*"
      ]
    },
    {
      "cell_type": "code",
      "execution_count": 14,
      "metadata": {
        "id": "Xq6qHfNZQ9F9",
        "colab": {
          "base_uri": "https://localhost:8080/",
          "height": 452
        },
        "outputId": "21d9b73c-dd06-4814-9590-1177b250576d"
      },
      "outputs": [
        {
          "output_type": "display_data",
          "data": {
            "text/plain": [
              "<Figure size 640x480 with 1 Axes>"
            ],
            "image/png": "[encoded data removed]"
          },
          "metadata": {}
        }
      ],
      "source": [
        "plt.imshow(x.squeeze(), cmap=\"gray\")\n",
        "plt.title(f\"Label: {y}\")\n",
        "plt.show()"
      ]
    },
    {
      "cell_type": "markdown",
      "metadata": {
        "id": "SQ7Qc7N5Q9F9"
      },
      "source": [
        "Print out the min and max values of `x` using `torch.min()` and `torch.max()`."
      ]
    },
    {
      "cell_type": "code",
      "execution_count": 15,
      "metadata": {
        "id": "0fU7fzKGQ9F-",
        "colab": {
          "base_uri": "https://localhost:8080/"
        },
        "outputId": "b02b5d8b-a7d7-407b-cafe-ec83b7d6389d"
      },
      "outputs": [
        {
          "output_type": "stream",
          "name": "stdout",
          "text": [
            "tensor(0.)\n",
            "tensor(1.)\n"
          ]
        }
      ],
      "source": [
        "print(torch.min(x))\n",
        "print(torch.max(x))"
      ]
    },
    {
      "cell_type": "markdown",
      "metadata": {
        "id": "kLK7CH_YQ9F-"
      },
      "source": [
        "Our tensors are normalized between 0 and 1, which is good so we don't have to do any normalization.\n",
        "Now that we have a better understanding of our image data, let's examine the classes in the dataset.\n",
        "\n",
        "Create a `get_dataset_classes()` function which takes a dataset as input and count how many times each class appears.\n",
        "Return a dictionary where the keys are the classes and the values represent the number of times each class appears in the dataset."
      ]
    },
    {
      "cell_type": "code",
      "execution_count": 16,
      "metadata": {
        "id": "RLGxbOj3Q9F-"
      },
      "outputs": [],
      "source": [
        "def get_dataset_classes(dataset):\n",
        "  classes = {}\n",
        "  for x, y in dataset:\n",
        "    if y in classes.keys():\n",
        "      classes[y] += 1\n",
        "    else:\n",
        "      classes[y] = 1\n",
        "  return classes"
      ]
    },
    {
      "cell_type": "markdown",
      "metadata": {
        "id": "fNlLGb2pQ9F-"
      },
      "source": [
        "Execute the code below to visualize the dataset classes."
      ]
    },
    {
      "cell_type": "code",
      "execution_count": 17,
      "metadata": {
        "id": "3ZoP7o0JQ9F_",
        "colab": {
          "base_uri": "https://localhost:8080/",
          "height": 391
        },
        "outputId": "f0f49ce3-9532-4177-a914-16d5538b57f0"
      },
      "outputs": [
        {
          "output_type": "display_data",
          "data": {
            "text/plain": [
              "<Figure size 800x400 with 2 Axes>"
            ],
            "image/png": "[encoded data removed]"
          },
          "metadata": {}
        }
      ],
      "source": [
        "train_classes = get_dataset_classes(train_dataset)\n",
        "val_classes = get_dataset_classes(val_dataset)\n",
        "\n",
        "def plot_classes(ax, classes, title):\n",
        "    ax.bar(classes.keys(), classes.values())\n",
        "    ax.set_title(title)\n",
        "    ax.set_xticks(list(range(10)))\n",
        "\n",
        "fig, axes = plt.subplots(1, 2, figsize=(8, 4))\n",
        "plot_classes(axes[0], train_classes, \"Train Dataset Classes\")\n",
        "plot_classes(axes[1], val_classes, \"Val Dataset Classes\")\n",
        "plt.show()"
      ]
    },
    {
      "cell_type": "markdown",
      "metadata": {
        "id": "Lfg-UTydQ9F_"
      },
      "source": [
        "There are 10 classes, which makes sense because there are 10 digits, 0-9.\n",
        "Furthermore, the classes are pretty evenly spread on both datasets, which means our baseline accuracy is roughly 10%.\n",
        "\n",
        "Now create two `DataLoader` objects called, `train_loader` and `val_loader`.\n",
        "The `train_loader` should have your `train_dataset` and the `val_loader` should have your `val_dataset`.\n",
        "Set the `batch_size` of both dataloaders equal to 32 and set `shuffle=True` for the `train_loader` so that the dataset is shuffled every time.\n",
        "To improve the speed at which you `DataLoader`s can load the data, set `num_workers=4` (for multiprocessing)."
      ]
    },
    {
      "cell_type": "code",
      "execution_count": 18,
      "metadata": {
        "id": "mLp4yWwXQ9F_",
        "colab": {
          "base_uri": "https://localhost:8080/"
        },
        "outputId": "9444e12d-0a98-4a47-81ba-380538af8d8b"
      },
      "outputs": [
        {
          "output_type": "stream",
          "name": "stderr",
          "text": [
            "/usr/local/lib/python3.11/dist-packages/torch/utils/data/dataloader.py:617: UserWarning: This DataLoader will create 4 worker processes in total. Our suggested max number of worker in current system is 2, which is smaller than what this DataLoader is going to create. Please be aware that excessive worker creation might get DataLoader running slow or even freeze, lower the worker number to avoid potential slowness/freeze if necessary.\n",
            "  warnings.warn(\n"
          ]
        }
      ],
      "source": [
        "train_loader = DataLoader(train_dataset, batch_size=32, shuffle=True, num_workers=4)\n",
        "val_loader = DataLoader(val_dataset, batch_size=32, shuffle=True, num_workers=4)"
      ]
    },
    {
      "cell_type": "markdown",
      "metadata": {
        "id": "cEGFonGnQ9GH"
      },
      "source": [
        "Now use `x, y = next(iter(train_loader))` to get a single batch of data from the `train_loader` and print out the shapes and dtypes of `x` and `y`"
      ]
    },
    {
      "cell_type": "code",
      "execution_count": 19,
      "metadata": {
        "id": "b_XsyFmUQ9GH",
        "colab": {
          "base_uri": "https://localhost:8080/"
        },
        "outputId": "98d9163f-8532-4692-d4a3-8483e8c0f301"
      },
      "outputs": [
        {
          "output_type": "stream",
          "name": "stdout",
          "text": [
            "x shape: torch.Size([32, 1, 28, 28])\n",
            "x dtype: torch.float32\n",
            "\n",
            "\n",
            "y shape: torch.Size([32])\n",
            "y dtype: torch.int64\n"
          ]
        }
      ],
      "source": [
        "x, y = next(iter(train_loader))\n",
        "print(f\"x shape: {x.shape}\")\n",
        "print(f\"x dtype: {x.dtype}\")\n",
        "print(\"\\n\")\n",
        "print(f\"y shape: {y.shape}\")\n",
        "print(f\"y dtype: {y.dtype}\")"
      ]
    },
    {
      "cell_type": "markdown",
      "metadata": {
        "id": "CpSxXIkQQ9GI"
      },
      "source": [
        "The shape of `x` is `(B, C, H, W)`, where `B` is the batch size. **Always remember, in PyTorch, your data should have a batch dimension.**\n",
        "The shape of `y` is `(B,)` and it is a tensor of type `long`, which is what we want because we are doing classification, which means we want our target to be a class label."
      ]
    },
    {
      "cell_type": "markdown",
      "metadata": {
        "id": "QY4owfQwm-Ni"
      },
      "source": [
        "___\n",
        "\n",
        "### MLP Network\n",
        "\n",
        "We are now going to make our network.\n",
        "Because we are doing image classification, the input to our network is a batch of images, `shape=(B, C, H, W)`, and the output of our network is a batch of probabilities, `shape=(B, K)`, where `K` represents the number classes in our dataset.\n",
        "In our case `K=10`.\n",
        "\n",
        "We will first try to solve this problem using a fully connected deep network (like your DeepNet from lab 2), sometimes called a Multi-Layer Perceptron (MLP).  \n",
        "Implement an `MLP` below (don't forget to use `nn.Sequential`, `nn.Linear`, `nn.ReLU`).\n",
        "Because `nn.Linear` expects tensors of shape `(B, Z)`, where `Z` is the input feature size, we need to flatten our images. Use the `.view()` function to reshape `x.shape=(B, C, H, W)` into `x.shape=(B, Z)`, where `Z=C*H*W`.  "
      ]
    },
    {
      "cell_type": "code",
      "execution_count": 20,
      "metadata": {
        "id": "ljx0drnxQ9GI"
      },
      "outputs": [],
      "source": [
        "class MLP(nn.Module):\n",
        "    def __init__(self, in_features, out_features, hidden_size):\n",
        "        super().__init__()\n",
        "        self.network = nn.Sequential(\n",
        "            nn.Linear(in_features, hidden_size),\n",
        "            nn.ReLU(),\n",
        "            nn.Linear(hidden_size, out_features)\n",
        "        )\n",
        "\n",
        "    def forward(self, x):\n",
        "      B, C, H, W = x.shape\n",
        "      Z = C * H * W\n",
        "      x = x.view(B, Z)\n",
        "      return self.network(x)\n"
      ]
    },
    {
      "cell_type": "markdown",
      "metadata": {
        "id": "LJIluYrhQ9GI"
      },
      "source": [
        "Because we are doing classification, we need to use a different loss function that MSE; cross entropy loss is a good choice and is a common loss function for classification."
      ]
    },
    {
      "cell_type": "markdown",
      "metadata": {
        "id": "trSdeZy2Q9GJ"
      },
      "source": [
        "---\n",
        "\n",
        "# Softmax and CrossEntropy\n",
        "\n",
        "The cross entropy (CE) function is $CE(p, q) = - \\sum p(x) \\log q(x)$, where $p$ and $q$ are probability functions ($p$ is the target probabilities and $q$ is the predicted probabilities) and in our case $x$ represents a class.\n",
        "\n",
        "$p$ represents the target distribution, the true class distribution, which means it is a one-hot vector $p_c$, where $c$ represents the index of the class:\n",
        "$$p_i = \\begin{cases}\n",
        "1, & \\textrm{if } i = c \\\\\n",
        "0, & \\textrm{if } i \\not = c \\\\\n",
        "\\end{cases}$$\n",
        "\n",
        "Then $CE(p, q) = - \\sum_i p_i \\log q_i$ will become $CE(p, q) = - p_c \\log q_c$, because $p_{i \\not = c} = 0$, which is further reduced to $CE(p, q) = - \\log q_c$, since $p_c = 1$. In other words, cross entropy loss for classification is the negative log of the predicted probability of the correct class.\n",
        "\n",
        "Therefore, $p$ is never passed into `F.cross_entropy_loss()`, instead you pass in $q$ you predicted distribution and $c$ the index of the correct class.\n",
        "\n",
        "Implement `prenormalized_cross_entropy_loss` below. $q$ is assumed to be a normalized probability distribution.\n",
        "\n",
        "*Note 1: Do **not** use a for loop. You can index into a tensor with array slicing (hint: You will need to use `torch.arange()` for the 0th dimension of `q`)*\n",
        "\n",
        "*Note 2: Compute the mean cross entropy of the batch not the sum*"
      ]
    },
    {
      "cell_type": "code",
      "execution_count": 21,
      "metadata": {
        "id": "xuhEjtx7Q9GJ"
      },
      "outputs": [],
      "source": [
        "def prenormalized_cross_entropy_loss(q, c):\n",
        "  correct_probabilities = q[torch.arange(q.shape[0]), c]\n",
        "  print(\"correct_probabilities: \", correct_probabilities)\n",
        "  loss = -torch.log(correct_probabilities)\n",
        "  print(\"loss\", loss)\n",
        "  loss = torch.mean(loss)\n",
        "  print(\"mean loss\", loss)\n",
        "  return loss"
      ]
    },
    {
      "cell_type": "markdown",
      "metadata": {
        "id": "bqzoiQDgQ9GK"
      },
      "source": [
        "Validate your function below."
      ]
    },
    {
      "cell_type": "code",
      "execution_count": 22,
      "metadata": {
        "id": "5l96Vh8HQ9GK",
        "colab": {
          "base_uri": "https://localhost:8080/"
        },
        "outputId": "e9b19fef-3e6e-43dd-bf24-c4718d9df1fb"
      },
      "outputs": [
        {
          "output_type": "stream",
          "name": "stdout",
          "text": [
            "correct_probabilities:  tensor([0.4000, 0.2000, 0.3000])\n",
            "loss tensor([0.9163, 1.6094, 1.2040])\n",
            "mean loss tensor(1.2432)\n"
          ]
        }
      ],
      "source": [
        "def test_prenormalized_cross_entropy_loss():\n",
        "    q = torch.tensor([[.1, .5, .4], # image 1\n",
        "                      [.2, .2, .6], # image 2\n",
        "                      [.3, .3, .3]]) # image 3\n",
        "                      # c1, c2, c3\n",
        "    c = torch.tensor([2, 0, 1]) # these act as the correct answers\n",
        "    assert torch.allclose(prenormalized_cross_entropy_loss(q, c), torch.tensor(1.2432), atol=1e-4)\n",
        "\n",
        "test_prenormalized_cross_entropy_loss()"
      ]
    },
    {
      "cell_type": "markdown",
      "metadata": {
        "id": "G4pxw0AhQ9GL"
      },
      "source": [
        "This assumed that `q` was a probability distribution, but usually neural networks output logits $l$, which are unnormalized probabilities.\n",
        "One way we could normalize our logits $l$ into probabilities $q$ is to divide $l$ by the sum of logits $q_i = \\frac{l_i}{\\sum_j l_j}$, but that doesn't work if $l_i$ is negative.\n",
        "The softmax, which exponentiates the $logit$, $q_i = \\frac{e^{l_i}}{\\sum_j e^{l_j}}$, before dividing by the sum of exponentiated logits removes the issues of negativity (there are other good reasons for using softmax, such as numerical stability).\n",
        "\n",
        "However, applying `q = softmax(l)` to `prenormalized_cross_entropy_loss(q, c)` can still be numerically unstable.\n",
        "Luckily, we can simplify our function:\n",
        "$$\\begin{align}\n",
        "CE(l, c) &= - \\log \\frac{e^{l_c}}{\\sum_j e^{l_j}} \\\\\n",
        "&= - (\\log e^{l_c} - \\log \\sum_j e^{l_j}) \\\\\n",
        "&= - (l_c - \\log \\sum_j e^{l_j}) \\\\\n",
        "&= - l_c + \\log \\sum_j e^{l_j}\n",
        "\\end{align}$$\n",
        "\n",
        "While you could implement $\\log \\sum_j e^{l_j}$, you should use `torch.logsumexp()` which will exponentiate, sum, and then log your logits, but in a more numerically stable way.\n",
        "Implement `cross_entropy_loss()` below.\n",
        "You can validate it works by comparing it with the output of `F.cross_entropy()`.\n",
        "\n",
        "*Note: Do **not** use a for loop*"
      ]
    },
    {
      "cell_type": "code",
      "execution_count": 23,
      "metadata": {
        "id": "eqBTmzaWQ9GL"
      },
      "outputs": [],
      "source": [
        "def cross_entropy_loss(l, c):\n",
        "  correct_logits = l[torch.arange(l.shape[0]), c]\n",
        "  log_sum_exp_logits = torch.logsumexp(l, dim=1)\n",
        "  loss = -correct_logits + log_sum_exp_logits\n",
        "  return torch.mean(loss)\n"
      ]
    },
    {
      "cell_type": "code",
      "source": [
        "# Test for cross_entropy_loss() against F.cross_entropy()\n",
        "\n",
        "logits = torch.tensor([[.1, .5, .4],\n",
        "                    [.2, .2, .6],\n",
        "                    [.3, .3, .3]])\n",
        "\n",
        "labels = torch.tensor([2, 0, 1])\n",
        "\n",
        "cross_entropy_loss_output = cross_entropy_loss(logits, labels)\n",
        "\n",
        "loss_pytorch_output = F.cross_entropy(logits, labels)\n",
        "\n",
        "print(\"Custom Loss:\", cross_entropy_loss_output.item())\n",
        "print(\"PyTorch Loss:\", loss_pytorch_output.item())\n",
        "\n",
        "assert torch.allclose(cross_entropy_loss_output, loss_pytorch_output)\n"
      ],
      "metadata": {
        "colab": {
          "base_uri": "https://localhost:8080/"
        },
        "id": "JEq3iEA6oIpk",
        "outputId": "ea0bc940-4523-4031-a0a2-158eac066df3"
      },
      "execution_count": 24,
      "outputs": [
        {
          "output_type": "stream",
          "name": "stdout",
          "text": [
            "Custom Loss: 1.131649136543274\n",
            "PyTorch Loss: 1.131649136543274\n"
          ]
        }
      ]
    },
    {
      "cell_type": "markdown",
      "metadata": {
        "id": "cBEOn1gKQ9GL"
      },
      "source": [
        "It is hard to tell how well a model is performing just from its cross entropy loss, so create a `get_accuracy()` function to measure accuracy.\n",
        "`get_accuracy()` takes in a `y_hat` and `y`, where `y_hat` contains the predicted logits (unnormalized probabilities) for some images `x` and `y` are the labels.\n",
        "You can get the predicted label from `y_hat`, by using the `torch.argmax()` function.\n",
        "\n",
        "*Note: Do **not** use a for loop.*"
      ]
    },
    {
      "cell_type": "code",
      "execution_count": 25,
      "metadata": {
        "id": "aDoJ9UewQ9GL"
      },
      "outputs": [],
      "source": [
        "def get_accuracy(y_hat, y):\n",
        "  predicted_labels = torch.argmax(y_hat, dim=1)\n",
        "  correct_predictions = (predicted_labels == y)\n",
        "  accuracy = torch.mean(correct_predictions.float())\n",
        "  return accuracy"
      ]
    },
    {
      "cell_type": "markdown",
      "metadata": {
        "id": "Gliu8YgjQ9GL"
      },
      "source": [
        "## Validation and Training"
      ]
    },
    {
      "cell_type": "markdown",
      "metadata": {
        "id": "Gh5QkQ-WCwxZ"
      },
      "source": [
        "To see how well training is going, implement a `validation()` function to compute the average loss and accuracy over all instances in the `val_loader`.\n",
        "This function will look very similar to a basic training loop, but without any optimization, e.g. no `loss.backward()` or `optimizer.step()`.\n",
        "To speed up the process use `torch.no_grad()` to keep PyTorch from building the computation graph.\n",
        "You can use `torch.no_grad()` either as a decorator:\n",
        "```python\n",
        "@torch.no_grad()\n",
        "def fn():\n",
        "    ...\n",
        "```\n",
        "or as a context manager:\n",
        "```python\n",
        "def fn():\n",
        "    with torch.no_grad():\n",
        "        ...\n",
        "```\n",
        "\n",
        "*Remember you can use `.item()` on a tensor with one element to convert it into a float/int.*"
      ]
    },
    {
      "cell_type": "code",
      "execution_count": 26,
      "metadata": {
        "id": "eVpKK9_bQ9GM"
      },
      "outputs": [],
      "source": [
        "def validation(net, val_loader):\n",
        "  net.eval()\n",
        "  total_loss = 0.0\n",
        "  total_accuracy = 0.0\n",
        "  total_samples = 0\n",
        "\n",
        "\n",
        "  with torch.no_grad():\n",
        "    for x, y in val_loader: # x (tensor), y (label)\n",
        "      x = x.to(device)\n",
        "      y = y.to(device)\n",
        "\n",
        "      y_hat = net(x)\n",
        "\n",
        "      loss = cross_entropy_loss(y_hat, y)\n",
        "      accuracy = get_accuracy(y_hat, y)\n",
        "\n",
        "      batch_size = x.size(0)\n",
        "      total_samples += batch_size\n",
        "\n",
        "      total_loss += loss.item() * batch_size\n",
        "      total_accuracy += accuracy.item() * batch_size\n",
        "\n",
        "  avg_loss = total_loss / total_samples\n",
        "  avg_accuracy = total_accuracy / total_samples\n",
        "\n",
        "  return avg_loss, avg_accuracy\n",
        "\n"
      ]
    },
    {
      "cell_type": "markdown",
      "metadata": {
        "id": "2RHZYEKNQ9GM"
      },
      "source": [
        "Now implement the `train()` function.\n",
        "This will look similar to the `train()` you implemented in lab 2, but now you will also store training accuracies, and at every `log_val_interval` you will call `validation` and store the validation loss and accuracy."
      ]
    },
    {
      "cell_type": "code",
      "execution_count": 27,
      "metadata": {
        "id": "7PQFG1zAQ9GM"
      },
      "outputs": [],
      "source": [
        "def train(net, train_loader, val_loader, optimizer, n_optimization_steps, log_val_interval):\n",
        "    # Implement training loop and return the training and validation losses and accuracies.\n",
        "    training_losses = []\n",
        "    training_accuracies = []\n",
        "    validation_losses = []\n",
        "    validation_accuracies = []\n",
        "\n",
        "\n",
        "    step = 0\n",
        "\n",
        "    while step < n_optimization_steps:\n",
        "        for images, labels in train_loader:\n",
        "            if step >= n_optimization_steps:\n",
        "                break\n",
        "\n",
        "            images = images.to(device)\n",
        "            labels = labels.to(device)\n",
        "\n",
        "            optimizer.zero_grad()\n",
        "            y_hat = net(images)\n",
        "\n",
        "            loss = cross_entropy_loss(y_hat, labels)\n",
        "            accuracy = get_accuracy(y_hat, labels)\n",
        "\n",
        "            loss.backward()\n",
        "            optimizer.step()\n",
        "\n",
        "            training_losses.append(loss.item())\n",
        "            training_accuracies.append(accuracy.item())\n",
        "\n",
        "            if (step + 1) % log_val_interval == 0:\n",
        "                val_loss, val_acc = validation(net, val_loader)\n",
        "                validation_losses.append(val_loss)\n",
        "                validation_accuracies.append(val_acc)\n",
        "\n",
        "                print(f\"Step {step+1}/{n_optimization_steps} | \"\n",
        "                f\"Train Loss: {loss.item():.4f} | Train Acc: {accuracy.item():.2%} | \"\n",
        "                f\"Val Loss: {val_loss:.4f} | Val Acc: {val_acc:.2%}\")\n",
        "\n",
        "            step += 1\n",
        "\n",
        "    return training_losses, training_accuracies, validation_losses, validation_accuracies"
      ]
    },
    {
      "cell_type": "markdown",
      "metadata": {
        "id": "zpKn33eFQ9GM"
      },
      "source": [
        "Now train an `MLP` on `MNIST`. To speed up training use the `torch.optim.Adam` optimizer instead of `torch.optim.SGD`.\n",
        "\n",
        "*Note: Don't forget to put your network on `device`.*"
      ]
    },
    {
      "cell_type": "code",
      "execution_count": 28,
      "metadata": {
        "id": "PaunNy19Q9GN",
        "colab": {
          "base_uri": "https://localhost:8080/"
        },
        "outputId": "1e769999-f476-410b-9cc4-eb081eb48f2a"
      },
      "outputs": [
        {
          "output_type": "stream",
          "name": "stdout",
          "text": [
            "Step 50/2000 | Train Loss: 1.0928 | Train Acc: 78.12% | Val Loss: 1.0624 | Val Acc: 78.93%\n",
            "Step 100/2000 | Train Loss: 0.6363 | Train Acc: 81.25% | Val Loss: 0.6122 | Val Acc: 86.12%\n",
            "Step 150/2000 | Train Loss: 0.6469 | Train Acc: 84.38% | Val Loss: 0.4784 | Val Acc: 87.91%\n",
            "Step 200/2000 | Train Loss: 0.3805 | Train Acc: 90.62% | Val Loss: 0.4074 | Val Acc: 89.35%\n",
            "Step 250/2000 | Train Loss: 0.4691 | Train Acc: 84.38% | Val Loss: 0.3792 | Val Acc: 89.75%\n",
            "Step 300/2000 | Train Loss: 0.4692 | Train Acc: 84.38% | Val Loss: 0.3654 | Val Acc: 89.90%\n",
            "Step 350/2000 | Train Loss: 0.3234 | Train Acc: 90.62% | Val Loss: 0.3424 | Val Acc: 90.07%\n",
            "Step 400/2000 | Train Loss: 0.2619 | Train Acc: 90.62% | Val Loss: 0.3275 | Val Acc: 90.99%\n",
            "Step 450/2000 | Train Loss: 0.2713 | Train Acc: 93.75% | Val Loss: 0.3094 | Val Acc: 91.44%\n",
            "Step 500/2000 | Train Loss: 0.1822 | Train Acc: 96.88% | Val Loss: 0.3109 | Val Acc: 91.17%\n",
            "Step 550/2000 | Train Loss: 0.2282 | Train Acc: 96.88% | Val Loss: 0.3047 | Val Acc: 91.11%\n",
            "Step 600/2000 | Train Loss: 0.3731 | Train Acc: 84.38% | Val Loss: 0.3032 | Val Acc: 91.33%\n",
            "Step 650/2000 | Train Loss: 0.2124 | Train Acc: 93.75% | Val Loss: 0.2890 | Val Acc: 91.76%\n",
            "Step 700/2000 | Train Loss: 0.1948 | Train Acc: 90.62% | Val Loss: 0.2832 | Val Acc: 91.63%\n",
            "Step 750/2000 | Train Loss: 0.1882 | Train Acc: 93.75% | Val Loss: 0.2649 | Val Acc: 92.63%\n",
            "Step 800/2000 | Train Loss: 0.2241 | Train Acc: 96.88% | Val Loss: 0.2629 | Val Acc: 92.37%\n",
            "Step 850/2000 | Train Loss: 0.2259 | Train Acc: 93.75% | Val Loss: 0.2646 | Val Acc: 92.56%\n",
            "Step 900/2000 | Train Loss: 0.1951 | Train Acc: 90.62% | Val Loss: 0.2538 | Val Acc: 92.86%\n",
            "Step 950/2000 | Train Loss: 0.3112 | Train Acc: 90.62% | Val Loss: 0.2529 | Val Acc: 92.62%\n",
            "Step 1000/2000 | Train Loss: 0.2251 | Train Acc: 90.62% | Val Loss: 0.2510 | Val Acc: 92.66%\n",
            "Step 1050/2000 | Train Loss: 0.2440 | Train Acc: 93.75% | Val Loss: 0.2471 | Val Acc: 92.94%\n",
            "Step 1100/2000 | Train Loss: 0.0719 | Train Acc: 100.00% | Val Loss: 0.2422 | Val Acc: 92.79%\n",
            "Step 1150/2000 | Train Loss: 0.2357 | Train Acc: 90.62% | Val Loss: 0.2412 | Val Acc: 92.89%\n",
            "Step 1200/2000 | Train Loss: 0.1575 | Train Acc: 93.75% | Val Loss: 0.2329 | Val Acc: 93.19%\n",
            "Step 1250/2000 | Train Loss: 0.2015 | Train Acc: 93.75% | Val Loss: 0.2253 | Val Acc: 93.60%\n",
            "Step 1300/2000 | Train Loss: 0.2664 | Train Acc: 90.62% | Val Loss: 0.2241 | Val Acc: 93.61%\n",
            "Step 1350/2000 | Train Loss: 0.1650 | Train Acc: 93.75% | Val Loss: 0.2410 | Val Acc: 92.75%\n",
            "Step 1400/2000 | Train Loss: 0.3110 | Train Acc: 87.50% | Val Loss: 0.2127 | Val Acc: 94.06%\n",
            "Step 1450/2000 | Train Loss: 0.2139 | Train Acc: 93.75% | Val Loss: 0.2084 | Val Acc: 94.04%\n",
            "Step 1500/2000 | Train Loss: 0.3384 | Train Acc: 87.50% | Val Loss: 0.2044 | Val Acc: 94.09%\n",
            "Step 1550/2000 | Train Loss: 0.2213 | Train Acc: 93.75% | Val Loss: 0.2031 | Val Acc: 94.11%\n",
            "Step 1600/2000 | Train Loss: 0.5743 | Train Acc: 78.12% | Val Loss: 0.2090 | Val Acc: 93.68%\n",
            "Step 1650/2000 | Train Loss: 0.1736 | Train Acc: 87.50% | Val Loss: 0.2044 | Val Acc: 94.05%\n",
            "Step 1700/2000 | Train Loss: 0.2612 | Train Acc: 90.62% | Val Loss: 0.2018 | Val Acc: 94.04%\n",
            "Step 1750/2000 | Train Loss: 0.1273 | Train Acc: 96.88% | Val Loss: 0.1923 | Val Acc: 94.36%\n",
            "Step 1800/2000 | Train Loss: 0.3422 | Train Acc: 87.50% | Val Loss: 0.1927 | Val Acc: 94.21%\n",
            "Step 1850/2000 | Train Loss: 0.0688 | Train Acc: 100.00% | Val Loss: 0.1938 | Val Acc: 94.06%\n",
            "Step 1900/2000 | Train Loss: 0.0934 | Train Acc: 96.88% | Val Loss: 0.1816 | Val Acc: 94.40%\n",
            "Step 1950/2000 | Train Loss: 0.0986 | Train Acc: 96.88% | Val Loss: 0.1853 | Val Acc: 94.39%\n",
            "Step 2000/2000 | Train Loss: 0.1683 | Train Acc: 90.62% | Val Loss: 0.1822 | Val Acc: 94.75%\n"
          ]
        }
      ],
      "source": [
        "# TODO: Set torch seed for reproducibility\n",
        "torch.manual_seed(1)\n",
        "\n",
        "# Initialize MLP\n",
        "in_features = 784\n",
        "out_features = 10\n",
        "hidden_size = 64\n",
        "net = MLP(in_features, out_features, hidden_size).to(device)\n",
        "\n",
        "# TODO: Create an Adam optimizer (lr=.001 works well)\n",
        "optimizer = torch.optim.Adam(net.parameters(), lr=0.001)\n",
        "\n",
        "# TODO: Train your MLP for 2000 steps and set log_val_interval=50\n",
        "val_steps = 2000\n",
        "log_val_interval = 50\n",
        "train_losses, train_accs, val_losses, val_accs = train(\n",
        "    net, train_loader, val_loader, optimizer, n_optimization_steps=val_steps, log_val_interval=log_val_interval\n",
        ")\n"
      ]
    },
    {
      "cell_type": "markdown",
      "metadata": {
        "id": "qxlBHEY5Q9GN"
      },
      "source": [
        "Now plot your training and validation loss on the same plot and plot your training and validation accuracies on the same plot.\n",
        "Properly set your x- and y-axis labels and create a legend to make your plot legible.  \n",
        "\n",
        "*Note: that you can specify the x-values for each point by calling `plt.plot(x, y)` instead of `plt.plot(y)`. Since you store validation every 50 steps, you'll need to use `torch.arange` to get the proper x-values to align the validation results to the training results.*"
      ]
    },
    {
      "cell_type": "code",
      "execution_count": 29,
      "metadata": {
        "id": "janqsjw6Q9GN",
        "colab": {
          "base_uri": "https://localhost:8080/",
          "height": 1000
        },
        "outputId": "a615c6cd-5882-4dfa-9be5-b567a7c3b31b"
      },
      "outputs": [
        {
          "output_type": "stream",
          "name": "stderr",
          "text": [
            "<ipython-input-29-8d8b444d5daa>:6: UserWarning: No artists with labels found to put in legend.  Note that artists whose label start with an underscore are ignored when legend() is called with no argument.\n",
            "  plt.legend()\n"
          ]
        },
        {
          "output_type": "display_data",
          "data": {
            "text/plain": [
              "<Figure size 1200x600 with 1 Axes>"
            ],
            "image/png": "[encoded data removed]"
          },
          "metadata": {}
        },
        {
          "output_type": "display_data",
          "data": {
            "text/plain": [
              "<Figure size 1200x600 with 1 Axes>"
            ],
            "image/png": "[encoded data removed]"
          },
          "metadata": {}
        }
      ],
      "source": [
        "def plot(train_steps, train_data, val_steps_values, val_data, metric_name):\n",
        "    plt.figure(figsize=(12, 6))\n",
        "    plt.xlabel(\"Steps\")\n",
        "    plt.ylabel(metric_name)\n",
        "    plt.title(f\"Training and Validation {metric_name}\")\n",
        "    plt.legend()\n",
        "\n",
        "    plt.plot(train_steps, train_data, label=f\"Training {metric_name}\", color=\"red\")\n",
        "    plt.plot(val_steps_values, val_data, label=f\"Validation {metric_name}\", color=\"blue\")\n",
        "    plt.show()\n",
        "\n",
        "train_steps = torch.arange(1, len(train_losses) + 1)\n",
        "val_steps_values = torch.arange(log_val_interval, val_steps + 1, log_val_interval)\n",
        "\n",
        "plot(train_steps, train_losses, val_steps_values, val_losses, \"Loss\")\n",
        "plot(train_steps, train_accs, val_steps_values, [val * 100 for val in val_accs], \"Accuracy (%)\")"
      ]
    },
    {
      "cell_type": "markdown",
      "metadata": {
        "id": "ronkEckHiDaU"
      },
      "source": [
        "___\n",
        "\n",
        "# Convolution Networks\n",
        "\n",
        "Now we will create a convolution network.\n",
        "When we were dealing with an `MLP` we used fully-connected `nn.Linear` layers.\n",
        "In a convolution network we use `nn.Conv2d` layers.\n",
        "`nn.Linear` maps tensors of shape `(B, F_in) -> (B, F_out)`.\n",
        "`nn.Conv2d` maps tensors of shape `(B, C_in, H_in, W_in) -> (B, C_out, H_out, W_out)`, where `C_in` represents our input channels and `C_out` represents our output channels.\n",
        "You decide what `C_out` should be when you initialize.\n",
        "The mapping that\n",
        "\n",
        "If we had a batch of `img` tensors with shape `(B, 3, 8, 8)` and we wanted it to become `(B, 6, 4, 4)` we could create a convolution layer:\n",
        "```python\n",
        "conv_layer = nn.Conv2d(in_channels=3,  # Our 'C_in' which is 3\n",
        "                       out_channels=6, # Our desired 'C_out'\n",
        "                       kernel_size=2,  # One way to make an 8x8 image become a 2x2 image is to have the kernel be 2x2,\n",
        "                       padding=0,      #    with zero padding,\n",
        "                       stride=2,       #    and a stride of 2.\n",
        "                      )\n",
        "```\n",
        "Validate this is true below by creating `conv_prac()` function, which creates a random tensor with shape `(B, 3, 8, 8)`, passes it through `conv_layer`, and prints out the resulting shape.\n",
        "\n",
        "*Note: `kernel_size`, `padding`, and `stride` can all be tuples in case you want different (height, width) parameters, e.g. `kernel=(kernel_height, kernel_width)`.*"
      ]
    },
    {
      "cell_type": "code",
      "execution_count": 30,
      "metadata": {
        "id": "0WFcZkkWQ9GN",
        "colab": {
          "base_uri": "https://localhost:8080/"
        },
        "outputId": "a1338ca6-40ae-4c12-f678-e303d28f4eab"
      },
      "outputs": [
        {
          "output_type": "stream",
          "name": "stdout",
          "text": [
            "x shape: torch.Size([1, 3, 8, 8])\n",
            "y shape: torch.Size([1, 6, 4, 4])\n"
          ]
        }
      ],
      "source": [
        "def conv_prac():\n",
        "    image = torch.randn(1, 3, 8, 8)\n",
        "    conv_layer = nn.Conv2d(in_channels=3, out_channels=6, kernel_size=2, padding=0, stride=2)\n",
        "    output = conv_layer(image)\n",
        "    print(f\"x shape: {image.shape}\")\n",
        "    print(f\"y shape: {output.shape}\")\n",
        "\n",
        "conv_prac()"
      ]
    },
    {
      "cell_type": "markdown",
      "metadata": {
        "id": "7hXGRxUQh9gX"
      },
      "source": [
        "___\n",
        "\n",
        "### Quiz\n",
        "Test your knowledge of how convolution layers affect the shape of outputs by answering the following quiz questions.\n",
        "\n",
        "\n",
        "*Using a Kernel size of 3×3 what should the settings of your 2d convolution be that results in the following mappings (first answer given to you)*\n",
        "\n",
        "* (c=3, h=10, w=10) ⇒ (c=10, h=8, w=8) : **(out_channels=10, kernel_size=(3, 3), padding=(0, 0))**\n",
        "* (c=3, h=10, w=10) ⇒ (c=22, h=10, w=10) : **(out_channels=22, kernel_size=(3, 3), padding=(1, 1))**\n",
        "* (c=3, h=10, w=10) ⇒ (c=65, h=12, w=12) : **(out_channels=65, kernel_size=(3, 3), padding=(2, 2))**\n",
        "* (c=3, h=10, w=10) ⇒ (c=7, h=20, w=20) : **(out_channels=7, kernel_size=(3,3), padding=(6,6))**\n",
        "\n",
        "*Using a Kernel size of 5×5:*\n",
        "\n",
        "* (c=3, h=10, w=10) ⇒ (c=10, h=8, w=8) : (out_channels=10, kernel_size=(5, 5), padding=(1, 1))\n",
        "* (c=3, h=10, w=10) ⇒ (c=100, h=10, w=10) : **(out_channels=100, kernel_size=(5,5), padding=(2,2))**\n",
        "* (c=3, h=10, w=10) ⇒ (c=23, h=12, w=12) : **(out_channels=23, kernel_size=(5,5), padding=(3,3))**\n",
        "* (c=3, h=10, w=10) ⇒ (c=5, h=24, w=24) : **(out_channels=5, kernel_size=(5,5), padding=(9,9))**\n",
        "\n",
        "*Using Kernel size of 5×3:*\n",
        "\n",
        "* (c=3, h=10, w=10) ⇒ (c=10, h=8, w=8) : **(out_channels=10, kernel_size=(5, 3), padding=(1, 0))**\n",
        "* (c=3, h=10, w=10) ⇒ (c=100, h=10, w=10) : **(out_channels=100, kernel_size=(5, 3), padding=(2, 1))**\n",
        "* (c=3, h=10, w=10) ⇒ (c=23, h=12, w=12) : **(out_channels=23, kernel_size=(5, 3), padding=(3, 2))**\n",
        "* (c=3, h=10, w=10) ⇒ (c=5, h=24, w=24) : **(out_channels=5, kernel_size=(5, 3), padding=(9, 8))**\n",
        "\n",
        "*Determine the kernel that requires the smallest padding size to make the following mappings possible:*\n",
        "\n",
        "* (c=3, h=10, w=10) ⇒ (c=10, h=9, w=7) : **(kernel_size=(2, 4))**\n",
        "* (c=3, h=10, w=10) ⇒ (c=22, h=10, w=10) : **(kernel_size=(1, 1))**\n",
        "\n",
        "\n"
      ]
    },
    {
      "cell_type": "markdown",
      "metadata": {
        "id": "X6iWe-vrQ9GO"
      },
      "source": [
        "## ConvNet\n",
        "\n",
        "Now create a convolution network `ConvNet` that inherits `nn.Module`.\n",
        "The network should have 3 convolution layers (each layer should have 16 output channels):\n",
        "1. Conv Layer 1 should have a 6x6 kernel, no padding, and a stride of 2.\n",
        "2. Conv Layer 2 should have a 4x4 kernel, no padding, and a stride of 2.\n",
        "3. Conv Layer 3 should have a 3x3 kernel, no padding, and a stride of 1.\n",
        "\n",
        "The output of these layers should be a 3x3 image with 16 channels.\n",
        "You should flatten the image (you can use `.view()`, `torch.flatten()`, or `nn.Flatten()`) and then pass it through 2 linear layers:\n",
        "1. Linear Layer 1 should take the flattened image and map it to a vector with 16 features.\n",
        "2. Linear Layer 2 should map its vector to logits.\n",
        "\n",
        "Do not forget to add nonlinearities between the layers (do not add them to the last layer)."
      ]
    },
    {
      "cell_type": "code",
      "execution_count": 31,
      "metadata": {
        "id": "a0_GBKlkQ9GO"
      },
      "outputs": [],
      "source": [
        "class ConvNet(nn.Module):\n",
        "    def __init__(self):\n",
        "      super().__init__()\n",
        "      self.conv1 = nn.Conv2d(in_channels=1, out_channels=16, kernel_size=6, padding=0, stride=2)\n",
        "      self.conv2 = nn.Conv2d(in_channels=16, out_channels=16, kernel_size=4, padding=0, stride=2)\n",
        "      self.conv3 = nn.Conv2d(in_channels=16, out_channels=16, kernel_size=3, padding=0, stride=1)\n",
        "\n",
        "      self.flatten = nn.Flatten()\n",
        "\n",
        "      self.linear1 = nn.Linear(16 * 3 * 3, 16)\n",
        "      self.linear2 = nn.Linear(16, 10)\n",
        "\n",
        "      self.relu = nn.ReLU()\n",
        "\n",
        "\n",
        "    def forward(self, x):\n",
        "        x = self.relu(self.conv1(x))\n",
        "        x = self.relu(self.conv2(x))\n",
        "        x = self.relu(self.conv3(x))\n",
        "\n",
        "        x = self.flatten(x)\n",
        "\n",
        "        x = self.relu(self.linear1(x))\n",
        "        x = self.linear2(x)\n",
        "\n",
        "        return x"
      ]
    },
    {
      "cell_type": "markdown",
      "metadata": {
        "id": "gynh4o0GQ9GP"
      },
      "source": [
        "Train you convolution network below."
      ]
    },
    {
      "cell_type": "code",
      "execution_count": 32,
      "metadata": {
        "id": "AeFfiCH4Q9GP",
        "colab": {
          "base_uri": "https://localhost:8080/"
        },
        "outputId": "981730e4-54f6-4a78-bd02-8e610707c73f"
      },
      "outputs": [
        {
          "output_type": "stream",
          "name": "stdout",
          "text": [
            "Step 50/2000 | Train Loss: 1.8071 | Train Acc: 34.38% | Val Loss: 1.6865 | Val Acc: 46.83%\n",
            "Step 100/2000 | Train Loss: 1.1358 | Train Acc: 68.75% | Val Loss: 0.7755 | Val Acc: 75.01%\n",
            "Step 150/2000 | Train Loss: 0.4776 | Train Acc: 84.38% | Val Loss: 0.5587 | Val Acc: 82.67%\n",
            "Step 200/2000 | Train Loss: 0.9403 | Train Acc: 71.88% | Val Loss: 0.5161 | Val Acc: 83.82%\n",
            "Step 250/2000 | Train Loss: 0.1407 | Train Acc: 100.00% | Val Loss: 0.4458 | Val Acc: 86.05%\n",
            "Step 300/2000 | Train Loss: 0.4116 | Train Acc: 90.62% | Val Loss: 0.4467 | Val Acc: 86.60%\n",
            "Step 350/2000 | Train Loss: 0.2674 | Train Acc: 96.88% | Val Loss: 0.4072 | Val Acc: 87.57%\n",
            "Step 400/2000 | Train Loss: 0.2515 | Train Acc: 84.38% | Val Loss: 0.3627 | Val Acc: 88.98%\n",
            "Step 450/2000 | Train Loss: 0.5950 | Train Acc: 87.50% | Val Loss: 0.3641 | Val Acc: 88.58%\n",
            "Step 500/2000 | Train Loss: 0.1939 | Train Acc: 100.00% | Val Loss: 0.3248 | Val Acc: 89.99%\n",
            "Step 550/2000 | Train Loss: 0.3351 | Train Acc: 87.50% | Val Loss: 0.3219 | Val Acc: 90.28%\n",
            "Step 600/2000 | Train Loss: 0.5056 | Train Acc: 87.50% | Val Loss: 0.2928 | Val Acc: 91.21%\n",
            "Step 650/2000 | Train Loss: 0.2450 | Train Acc: 93.75% | Val Loss: 0.3006 | Val Acc: 90.58%\n",
            "Step 700/2000 | Train Loss: 0.0681 | Train Acc: 100.00% | Val Loss: 0.2673 | Val Acc: 92.26%\n",
            "Step 750/2000 | Train Loss: 0.5248 | Train Acc: 81.25% | Val Loss: 0.2629 | Val Acc: 92.35%\n",
            "Step 800/2000 | Train Loss: 0.2660 | Train Acc: 90.62% | Val Loss: 0.2530 | Val Acc: 92.33%\n",
            "Step 850/2000 | Train Loss: 0.1675 | Train Acc: 93.75% | Val Loss: 0.2607 | Val Acc: 91.91%\n",
            "Step 900/2000 | Train Loss: 0.0545 | Train Acc: 96.88% | Val Loss: 0.2508 | Val Acc: 92.25%\n",
            "Step 950/2000 | Train Loss: 0.3154 | Train Acc: 90.62% | Val Loss: 0.2317 | Val Acc: 93.28%\n",
            "Step 1000/2000 | Train Loss: 0.1926 | Train Acc: 93.75% | Val Loss: 0.2242 | Val Acc: 93.06%\n",
            "Step 1050/2000 | Train Loss: 0.0819 | Train Acc: 100.00% | Val Loss: 0.2059 | Val Acc: 93.81%\n",
            "Step 1100/2000 | Train Loss: 0.1785 | Train Acc: 93.75% | Val Loss: 0.2082 | Val Acc: 93.42%\n",
            "Step 1150/2000 | Train Loss: 0.1213 | Train Acc: 96.88% | Val Loss: 0.2154 | Val Acc: 93.32%\n",
            "Step 1200/2000 | Train Loss: 0.2840 | Train Acc: 90.62% | Val Loss: 0.2061 | Val Acc: 93.59%\n",
            "Step 1250/2000 | Train Loss: 0.0464 | Train Acc: 100.00% | Val Loss: 0.1905 | Val Acc: 94.12%\n",
            "Step 1300/2000 | Train Loss: 0.2102 | Train Acc: 93.75% | Val Loss: 0.1885 | Val Acc: 94.23%\n",
            "Step 1350/2000 | Train Loss: 0.1594 | Train Acc: 93.75% | Val Loss: 0.1836 | Val Acc: 94.63%\n",
            "Step 1400/2000 | Train Loss: 0.3492 | Train Acc: 90.62% | Val Loss: 0.1908 | Val Acc: 93.88%\n",
            "Step 1450/2000 | Train Loss: 0.3034 | Train Acc: 90.62% | Val Loss: 0.1792 | Val Acc: 94.36%\n",
            "Step 1500/2000 | Train Loss: 0.5284 | Train Acc: 90.62% | Val Loss: 0.1540 | Val Acc: 95.38%\n",
            "Step 1550/2000 | Train Loss: 0.1261 | Train Acc: 100.00% | Val Loss: 0.1710 | Val Acc: 95.00%\n",
            "Step 1600/2000 | Train Loss: 0.3398 | Train Acc: 87.50% | Val Loss: 0.1629 | Val Acc: 95.19%\n",
            "Step 1650/2000 | Train Loss: 0.1326 | Train Acc: 93.75% | Val Loss: 0.1530 | Val Acc: 95.25%\n",
            "Step 1700/2000 | Train Loss: 0.0476 | Train Acc: 100.00% | Val Loss: 0.1741 | Val Acc: 94.90%\n",
            "Step 1750/2000 | Train Loss: 0.1172 | Train Acc: 96.88% | Val Loss: 0.1470 | Val Acc: 95.75%\n",
            "Step 1800/2000 | Train Loss: 0.3850 | Train Acc: 81.25% | Val Loss: 0.1695 | Val Acc: 94.73%\n",
            "Step 1850/2000 | Train Loss: 0.3403 | Train Acc: 90.62% | Val Loss: 0.1296 | Val Acc: 95.99%\n",
            "Step 1900/2000 | Train Loss: 0.0619 | Train Acc: 96.88% | Val Loss: 0.1438 | Val Acc: 95.78%\n",
            "Step 1950/2000 | Train Loss: 0.2689 | Train Acc: 90.62% | Val Loss: 0.1336 | Val Acc: 95.98%\n",
            "Step 2000/2000 | Train Loss: 0.0967 | Train Acc: 93.75% | Val Loss: 0.1268 | Val Acc: 96.19%\n"
          ]
        }
      ],
      "source": [
        "# TODO: Set seed for reproducibility\n",
        "torch.manual_seed(1)\n",
        "\n",
        "# TODO: Initalize your ConvNet, called 'conv_net'\n",
        "conv_net = ConvNet()\n",
        "\n",
        "# TODO: Create an Adam optimizer (lr=.001 works well)\n",
        "optimizer = torch.optim.Adam(conv_net.parameters(), lr=0.001)\n",
        "\n",
        "# TODO: Train your ConvNet for 2000 steps and set log_val_interval=50\n",
        "training_losses_conv, training_accuracies_conv, validation_losses_conv, validation_accuracies_conv = train(\n",
        "    conv_net, train_loader, val_loader, optimizer, n_optimization_steps=2000, log_val_interval=50)\n"
      ]
    },
    {
      "cell_type": "markdown",
      "metadata": {
        "id": "wpvG7fl1Q9GP"
      },
      "source": [
        "Now plot your training and validation loss on the same plot and plot your training and validation accuracies on the same plot."
      ]
    },
    {
      "cell_type": "code",
      "execution_count": 33,
      "metadata": {
        "id": "mC3GifTWQ9GP",
        "colab": {
          "base_uri": "https://localhost:8080/",
          "height": 1000
        },
        "outputId": "0d7a194c-f0f2-4412-a400-18f31c901fbe"
      },
      "outputs": [
        {
          "output_type": "stream",
          "name": "stderr",
          "text": [
            "<ipython-input-29-8d8b444d5daa>:6: UserWarning: No artists with labels found to put in legend.  Note that artists whose label start with an underscore are ignored when legend() is called with no argument.\n",
            "  plt.legend()\n"
          ]
        },
        {
          "output_type": "display_data",
          "data": {
            "text/plain": [
              "<Figure size 1200x600 with 1 Axes>"
            ],
            "image/png": "[encoded data removed]"
          },
          "metadata": {}
        },
        {
          "output_type": "display_data",
          "data": {
            "text/plain": [
              "<Figure size 1200x600 with 1 Axes>"
            ],
            "image/png": "[encoded data removed]"
          },
          "metadata": {}
        }
      ],
      "source": [
        "train_steps_conv = torch.arange(1, len(training_losses_conv) + 1)\n",
        "\n",
        "plot(train_steps, training_losses_conv, val_steps_values, validation_losses_conv, \"Loss\")\n",
        "plot(train_steps, training_accuracies_conv, val_steps_values, [val * 100 for val in validation_accuracies_conv], \"Accuracy (%)\")"
      ]
    },
    {
      "cell_type": "markdown",
      "metadata": {
        "id": "xlgZfmwRQ9GP"
      },
      "source": [
        "Create a function that outputs the number of parameters in a network.\n",
        "Remember you can call `.parameters()` to recursively retrieve the `Parameter`s in a `Module`.\n",
        "You could then use `.shape` to figure out the number of parameters in a `Parameter` or you could flatten the parameter and get its length."
      ]
    },
    {
      "cell_type": "code",
      "execution_count": 34,
      "metadata": {
        "id": "INzCWjI5Q9GP"
      },
      "outputs": [],
      "source": [
        "def get_n_net_params(net):\n",
        "    total_params = 0\n",
        "\n",
        "    for param in net.parameters():\n",
        "        total_params += param.numel()\n",
        "\n",
        "    return total_params\n"
      ]
    },
    {
      "cell_type": "markdown",
      "metadata": {
        "id": "aQR4_hPjQ9GQ"
      },
      "source": [
        "Print the number of parameters and the accuracy of your trained `MLP` and `ConvNet` networks and then write down below:\n",
        "- Which one is more accurate?\n",
        "- Which one is smaller?\n",
        "\n",
        "*Note: You can use `validation()` to get the accuracy of your network.*"
      ]
    },
    {
      "cell_type": "code",
      "execution_count": 35,
      "metadata": {
        "id": "wVCnQ1ccQ9GQ",
        "colab": {
          "base_uri": "https://localhost:8080/"
        },
        "outputId": "39448dbd-8110-4518-f247-32cb38115546"
      },
      "outputs": [
        {
          "output_type": "stream",
          "name": "stdout",
          "text": [
            "MLP Model: 50890 parameters, Accuracy: 0.9475\n",
            "ConvNet Model: 9514 parameters, Accuracy: 0.9619\n"
          ]
        }
      ],
      "source": [
        "mlp_param = get_n_net_params(net)\n",
        "conv_net_param = get_n_net_params(conv_net)\n",
        "\n",
        "mlp_loss, mlp_accuracy = validation(net, val_loader)\n",
        "conv_net_loss, conv_net_accuracy = validation(conv_net, val_loader)\n",
        "\n",
        "print(f\"MLP Model: {mlp_param} parameters, Accuracy: {mlp_accuracy}\")\n",
        "print(f\"ConvNet Model: {conv_net_param} parameters, Accuracy: {conv_net_accuracy}\")"
      ]
    },
    {
      "cell_type": "markdown",
      "source": [
        "In my models, `ConvNet` was the winner being more accurate with an Accuracy: 0.9619 and 9514 parameters, which is about 5x less than  `MLP`. This is due to the fact that MLPs neurons connects to every neuron in the next layer, which can be a ton of params (and this was not a very complex image either!)."
      ],
      "metadata": {
        "id": "g4oVJ7M3E9J6"
      }
    }
  ],
  "metadata": {
    "accelerator": "GPU",
    "colab": {
      "provenance": []
    },
    "kernelspec": {
      "display_name": "Python 3 (ipykernel)",
      "language": "python",
      "name": "python3"
    },
    "language_info": {
      "codemirror_mode": {
        "name": "ipython",
        "version": 3
      },
      "file_extension": ".py",
      "mimetype": "text/x-python",
      "name": "python",
      "nbconvert_exporter": "python",
      "pygments_lexer": "ipython3",
      "version": "3.10.13"
    },
    "pycharm": {
      "stem_cell": {
        "cell_type": "raw",
        "metadata": {
          "collapsed": false
        },
        "source": []
      }
    }
  },
  "nbformat": 4,
  "nbformat_minor": 0
}